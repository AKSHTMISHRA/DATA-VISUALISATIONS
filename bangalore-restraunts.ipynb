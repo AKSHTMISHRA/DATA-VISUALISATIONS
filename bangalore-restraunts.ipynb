{
 "cells": [
  {
   "cell_type": "code",
   "execution_count": 1,
   "id": "786eb14a",
   "metadata": {
    "_cell_guid": "b1076dfc-b9ad-4769-8c92-a6c4dae69d19",
    "_uuid": "8f2839f25d086af736a60e9eeb907d3b93b6e0e5",
    "execution": {
     "iopub.execute_input": "2022-01-14T10:58:47.931787Z",
     "iopub.status.busy": "2022-01-14T10:58:47.930516Z",
     "iopub.status.idle": "2022-01-14T10:58:47.946387Z",
     "shell.execute_reply": "2022-01-14T10:58:47.946995Z",
     "shell.execute_reply.started": "2022-01-14T09:34:06.173483Z"
    },
    "papermill": {
     "duration": 0.056379,
     "end_time": "2022-01-14T10:58:47.947280",
     "exception": false,
     "start_time": "2022-01-14T10:58:47.890901",
     "status": "completed"
    },
    "tags": []
   },
   "outputs": [
    {
     "name": "stdout",
     "output_type": "stream",
     "text": [
      "/kaggle/input/zomato-bangalore-restaurants/zomato.csv\n"
     ]
    }
   ],
   "source": [
    "# This Python 3 environment comes with many helpful analytics libraries installed\n",
    "# It is defined by the kaggle/python Docker image: https://github.com/kaggle/docker-python\n",
    "# For example, here's several helpful packages to load\n",
    "\n",
    "import numpy as np # linear algebra\n",
    "import pandas as pd # data processing, CSV file I/O (e.g. pd.read_csv)\n",
    "\n",
    "# Input data files are available in the read-only \"../input/\" directory\n",
    "# For example, running this (by clicking run or pressing Shift+Enter) will list all files under the input directory\n",
    "\n",
    "import os\n",
    "for dirname, _, filenames in os.walk('/kaggle/input'):\n",
    "    for filename in filenames:\n",
    "        print(os.path.join(dirname, filename))\n",
    "\n",
    "# You can write up to 20GB to the current directory (/kaggle/working/) that gets preserved as output when you create a version using \"Save & Run All\" \n",
    "# You can also write temporary files to /kaggle/temp/, but they won't be saved outside of the current session"
   ]
  },
  {
   "cell_type": "code",
   "execution_count": 2,
   "id": "12c33710",
   "metadata": {
    "execution": {
     "iopub.execute_input": "2022-01-14T10:58:48.024143Z",
     "iopub.status.busy": "2022-01-14T10:58:48.023475Z",
     "iopub.status.idle": "2022-01-14T10:58:48.996434Z",
     "shell.execute_reply": "2022-01-14T10:58:48.995465Z",
     "shell.execute_reply.started": "2022-01-14T10:47:34.851476Z"
    },
    "papermill": {
     "duration": 1.012246,
     "end_time": "2022-01-14T10:58:48.996583",
     "exception": false,
     "start_time": "2022-01-14T10:58:47.984337",
     "status": "completed"
    },
    "tags": []
   },
   "outputs": [],
   "source": [
    "import matplotlib.pyplot as plt\n",
    "import seaborn as sns \n",
    "%matplotlib inline"
   ]
  },
  {
   "cell_type": "markdown",
   "id": "8e49baff",
   "metadata": {
    "papermill": {
     "duration": 0.037061,
     "end_time": "2022-01-14T10:58:49.069222",
     "exception": false,
     "start_time": "2022-01-14T10:58:49.032161",
     "status": "completed"
    },
    "tags": []
   },
   "source": []
  },
  {
   "cell_type": "markdown",
   "id": "5be48339",
   "metadata": {
    "execution": {
     "iopub.execute_input": "2022-01-12T13:08:37.59411Z",
     "iopub.status.busy": "2022-01-12T13:08:37.593109Z",
     "iopub.status.idle": "2022-01-12T13:08:37.600497Z",
     "shell.execute_reply": "2022-01-12T13:08:37.599226Z",
     "shell.execute_reply.started": "2022-01-12T13:08:37.593903Z"
    },
    "papermill": {
     "duration": 0.034855,
     "end_time": "2022-01-14T10:58:49.139265",
     "exception": false,
     "start_time": "2022-01-14T10:58:49.104410",
     "status": "completed"
    },
    "tags": []
   },
   "source": [
    "we are visualising the data \n"
   ]
  },
  {
   "cell_type": "code",
   "execution_count": 3,
   "id": "5f115fe9",
   "metadata": {
    "execution": {
     "iopub.execute_input": "2022-01-14T10:58:49.212678Z",
     "iopub.status.busy": "2022-01-14T10:58:49.212079Z",
     "iopub.status.idle": "2022-01-14T10:59:00.750292Z",
     "shell.execute_reply": "2022-01-14T10:59:00.749660Z",
     "shell.execute_reply.started": "2022-01-14T09:34:06.233015Z"
    },
    "papermill": {
     "duration": 11.576024,
     "end_time": "2022-01-14T10:59:00.750454",
     "exception": false,
     "start_time": "2022-01-14T10:58:49.174430",
     "status": "completed"
    },
    "tags": []
   },
   "outputs": [],
   "source": [
    "bangres=pd.read_csv('../input/zomato-bangalore-restaurants/zomato.csv')\n"
   ]
  },
  {
   "cell_type": "code",
   "execution_count": 4,
   "id": "5462f8e8",
   "metadata": {
    "execution": {
     "iopub.execute_input": "2022-01-14T10:59:00.832698Z",
     "iopub.status.busy": "2022-01-14T10:59:00.832075Z",
     "iopub.status.idle": "2022-01-14T10:59:00.854202Z",
     "shell.execute_reply": "2022-01-14T10:59:00.853658Z",
     "shell.execute_reply.started": "2022-01-14T09:34:20.342152Z"
    },
    "papermill": {
     "duration": 0.066037,
     "end_time": "2022-01-14T10:59:00.854350",
     "exception": false,
     "start_time": "2022-01-14T10:59:00.788313",
     "status": "completed"
    },
    "tags": []
   },
   "outputs": [
    {
     "data": {
      "text/html": [
       "<div>\n",
       "<style scoped>\n",
       "    .dataframe tbody tr th:only-of-type {\n",
       "        vertical-align: middle;\n",
       "    }\n",
       "\n",
       "    .dataframe tbody tr th {\n",
       "        vertical-align: top;\n",
       "    }\n",
       "\n",
       "    .dataframe thead th {\n",
       "        text-align: right;\n",
       "    }\n",
       "</style>\n",
       "<table border=\"1\" class=\"dataframe\">\n",
       "  <thead>\n",
       "    <tr style=\"text-align: right;\">\n",
       "      <th></th>\n",
       "      <th>url</th>\n",
       "      <th>address</th>\n",
       "      <th>name</th>\n",
       "      <th>online_order</th>\n",
       "      <th>book_table</th>\n",
       "      <th>rate</th>\n",
       "      <th>votes</th>\n",
       "      <th>phone</th>\n",
       "      <th>location</th>\n",
       "      <th>rest_type</th>\n",
       "      <th>dish_liked</th>\n",
       "      <th>cuisines</th>\n",
       "      <th>approx_cost(for two people)</th>\n",
       "      <th>reviews_list</th>\n",
       "      <th>menu_item</th>\n",
       "      <th>listed_in(type)</th>\n",
       "      <th>listed_in(city)</th>\n",
       "    </tr>\n",
       "  </thead>\n",
       "  <tbody>\n",
       "    <tr>\n",
       "      <th>0</th>\n",
       "      <td>https://www.zomato.com/bangalore/jalsa-banasha...</td>\n",
       "      <td>942, 21st Main Road, 2nd Stage, Banashankari, ...</td>\n",
       "      <td>Jalsa</td>\n",
       "      <td>Yes</td>\n",
       "      <td>Yes</td>\n",
       "      <td>4.1/5</td>\n",
       "      <td>775</td>\n",
       "      <td>080 42297555\\r\\n+91 9743772233</td>\n",
       "      <td>Banashankari</td>\n",
       "      <td>Casual Dining</td>\n",
       "      <td>Pasta, Lunch Buffet, Masala Papad, Paneer Laja...</td>\n",
       "      <td>North Indian, Mughlai, Chinese</td>\n",
       "      <td>800</td>\n",
       "      <td>[('Rated 4.0', 'RATED\\n  A beautiful place to ...</td>\n",
       "      <td>[]</td>\n",
       "      <td>Buffet</td>\n",
       "      <td>Banashankari</td>\n",
       "    </tr>\n",
       "    <tr>\n",
       "      <th>1</th>\n",
       "      <td>https://www.zomato.com/bangalore/spice-elephan...</td>\n",
       "      <td>2nd Floor, 80 Feet Road, Near Big Bazaar, 6th ...</td>\n",
       "      <td>Spice Elephant</td>\n",
       "      <td>Yes</td>\n",
       "      <td>No</td>\n",
       "      <td>4.1/5</td>\n",
       "      <td>787</td>\n",
       "      <td>080 41714161</td>\n",
       "      <td>Banashankari</td>\n",
       "      <td>Casual Dining</td>\n",
       "      <td>Momos, Lunch Buffet, Chocolate Nirvana, Thai G...</td>\n",
       "      <td>Chinese, North Indian, Thai</td>\n",
       "      <td>800</td>\n",
       "      <td>[('Rated 4.0', 'RATED\\n  Had been here for din...</td>\n",
       "      <td>[]</td>\n",
       "      <td>Buffet</td>\n",
       "      <td>Banashankari</td>\n",
       "    </tr>\n",
       "    <tr>\n",
       "      <th>2</th>\n",
       "      <td>https://www.zomato.com/SanchurroBangalore?cont...</td>\n",
       "      <td>1112, Next to KIMS Medical College, 17th Cross...</td>\n",
       "      <td>San Churro Cafe</td>\n",
       "      <td>Yes</td>\n",
       "      <td>No</td>\n",
       "      <td>3.8/5</td>\n",
       "      <td>918</td>\n",
       "      <td>+91 9663487993</td>\n",
       "      <td>Banashankari</td>\n",
       "      <td>Cafe, Casual Dining</td>\n",
       "      <td>Churros, Cannelloni, Minestrone Soup, Hot Choc...</td>\n",
       "      <td>Cafe, Mexican, Italian</td>\n",
       "      <td>800</td>\n",
       "      <td>[('Rated 3.0', \"RATED\\n  Ambience is not that ...</td>\n",
       "      <td>[]</td>\n",
       "      <td>Buffet</td>\n",
       "      <td>Banashankari</td>\n",
       "    </tr>\n",
       "    <tr>\n",
       "      <th>3</th>\n",
       "      <td>https://www.zomato.com/bangalore/addhuri-udupi...</td>\n",
       "      <td>1st Floor, Annakuteera, 3rd Stage, Banashankar...</td>\n",
       "      <td>Addhuri Udupi Bhojana</td>\n",
       "      <td>No</td>\n",
       "      <td>No</td>\n",
       "      <td>3.7/5</td>\n",
       "      <td>88</td>\n",
       "      <td>+91 9620009302</td>\n",
       "      <td>Banashankari</td>\n",
       "      <td>Quick Bites</td>\n",
       "      <td>Masala Dosa</td>\n",
       "      <td>South Indian, North Indian</td>\n",
       "      <td>300</td>\n",
       "      <td>[('Rated 4.0', \"RATED\\n  Great food and proper...</td>\n",
       "      <td>[]</td>\n",
       "      <td>Buffet</td>\n",
       "      <td>Banashankari</td>\n",
       "    </tr>\n",
       "    <tr>\n",
       "      <th>4</th>\n",
       "      <td>https://www.zomato.com/bangalore/grand-village...</td>\n",
       "      <td>10, 3rd Floor, Lakshmi Associates, Gandhi Baza...</td>\n",
       "      <td>Grand Village</td>\n",
       "      <td>No</td>\n",
       "      <td>No</td>\n",
       "      <td>3.8/5</td>\n",
       "      <td>166</td>\n",
       "      <td>+91 8026612447\\r\\n+91 9901210005</td>\n",
       "      <td>Basavanagudi</td>\n",
       "      <td>Casual Dining</td>\n",
       "      <td>Panipuri, Gol Gappe</td>\n",
       "      <td>North Indian, Rajasthani</td>\n",
       "      <td>600</td>\n",
       "      <td>[('Rated 4.0', 'RATED\\n  Very good restaurant ...</td>\n",
       "      <td>[]</td>\n",
       "      <td>Buffet</td>\n",
       "      <td>Banashankari</td>\n",
       "    </tr>\n",
       "  </tbody>\n",
       "</table>\n",
       "</div>"
      ],
      "text/plain": [
       "                                                 url  \\\n",
       "0  https://www.zomato.com/bangalore/jalsa-banasha...   \n",
       "1  https://www.zomato.com/bangalore/spice-elephan...   \n",
       "2  https://www.zomato.com/SanchurroBangalore?cont...   \n",
       "3  https://www.zomato.com/bangalore/addhuri-udupi...   \n",
       "4  https://www.zomato.com/bangalore/grand-village...   \n",
       "\n",
       "                                             address                   name  \\\n",
       "0  942, 21st Main Road, 2nd Stage, Banashankari, ...                  Jalsa   \n",
       "1  2nd Floor, 80 Feet Road, Near Big Bazaar, 6th ...         Spice Elephant   \n",
       "2  1112, Next to KIMS Medical College, 17th Cross...        San Churro Cafe   \n",
       "3  1st Floor, Annakuteera, 3rd Stage, Banashankar...  Addhuri Udupi Bhojana   \n",
       "4  10, 3rd Floor, Lakshmi Associates, Gandhi Baza...          Grand Village   \n",
       "\n",
       "  online_order book_table   rate  votes                             phone  \\\n",
       "0          Yes        Yes  4.1/5    775    080 42297555\\r\\n+91 9743772233   \n",
       "1          Yes         No  4.1/5    787                      080 41714161   \n",
       "2          Yes         No  3.8/5    918                    +91 9663487993   \n",
       "3           No         No  3.7/5     88                    +91 9620009302   \n",
       "4           No         No  3.8/5    166  +91 8026612447\\r\\n+91 9901210005   \n",
       "\n",
       "       location            rest_type  \\\n",
       "0  Banashankari        Casual Dining   \n",
       "1  Banashankari        Casual Dining   \n",
       "2  Banashankari  Cafe, Casual Dining   \n",
       "3  Banashankari          Quick Bites   \n",
       "4  Basavanagudi        Casual Dining   \n",
       "\n",
       "                                          dish_liked  \\\n",
       "0  Pasta, Lunch Buffet, Masala Papad, Paneer Laja...   \n",
       "1  Momos, Lunch Buffet, Chocolate Nirvana, Thai G...   \n",
       "2  Churros, Cannelloni, Minestrone Soup, Hot Choc...   \n",
       "3                                        Masala Dosa   \n",
       "4                                Panipuri, Gol Gappe   \n",
       "\n",
       "                         cuisines approx_cost(for two people)  \\\n",
       "0  North Indian, Mughlai, Chinese                         800   \n",
       "1     Chinese, North Indian, Thai                         800   \n",
       "2          Cafe, Mexican, Italian                         800   \n",
       "3      South Indian, North Indian                         300   \n",
       "4        North Indian, Rajasthani                         600   \n",
       "\n",
       "                                        reviews_list menu_item  \\\n",
       "0  [('Rated 4.0', 'RATED\\n  A beautiful place to ...        []   \n",
       "1  [('Rated 4.0', 'RATED\\n  Had been here for din...        []   \n",
       "2  [('Rated 3.0', \"RATED\\n  Ambience is not that ...        []   \n",
       "3  [('Rated 4.0', \"RATED\\n  Great food and proper...        []   \n",
       "4  [('Rated 4.0', 'RATED\\n  Very good restaurant ...        []   \n",
       "\n",
       "  listed_in(type) listed_in(city)  \n",
       "0          Buffet    Banashankari  \n",
       "1          Buffet    Banashankari  \n",
       "2          Buffet    Banashankari  \n",
       "3          Buffet    Banashankari  \n",
       "4          Buffet    Banashankari  "
      ]
     },
     "execution_count": 4,
     "metadata": {},
     "output_type": "execute_result"
    }
   ],
   "source": [
    "bangres.head()"
   ]
  },
  {
   "cell_type": "code",
   "execution_count": 5,
   "id": "ecb93880",
   "metadata": {
    "execution": {
     "iopub.execute_input": "2022-01-14T10:59:00.931982Z",
     "iopub.status.busy": "2022-01-14T10:59:00.931296Z",
     "iopub.status.idle": "2022-01-14T10:59:00.934704Z",
     "shell.execute_reply": "2022-01-14T10:59:00.934174Z",
     "shell.execute_reply.started": "2022-01-14T09:34:20.379483Z"
    },
    "papermill": {
     "duration": 0.044402,
     "end_time": "2022-01-14T10:59:00.934858",
     "exception": false,
     "start_time": "2022-01-14T10:59:00.890456",
     "status": "completed"
    },
    "tags": []
   },
   "outputs": [
    {
     "data": {
      "text/plain": [
       "Index(['url', 'address', 'name', 'online_order', 'book_table', 'rate', 'votes',\n",
       "       'phone', 'location', 'rest_type', 'dish_liked', 'cuisines',\n",
       "       'approx_cost(for two people)', 'reviews_list', 'menu_item',\n",
       "       'listed_in(type)', 'listed_in(city)'],\n",
       "      dtype='object')"
      ]
     },
     "execution_count": 5,
     "metadata": {},
     "output_type": "execute_result"
    }
   ],
   "source": [
    "bangres.columns"
   ]
  },
  {
   "cell_type": "code",
   "execution_count": 6,
   "id": "a82ab0cd",
   "metadata": {
    "execution": {
     "iopub.execute_input": "2022-01-14T10:59:01.017294Z",
     "iopub.status.busy": "2022-01-14T10:59:01.016520Z",
     "iopub.status.idle": "2022-01-14T10:59:01.024895Z",
     "shell.execute_reply": "2022-01-14T10:59:01.025376Z",
     "shell.execute_reply.started": "2022-01-14T09:34:20.389958Z"
    },
    "papermill": {
     "duration": 0.054449,
     "end_time": "2022-01-14T10:59:01.025556",
     "exception": false,
     "start_time": "2022-01-14T10:59:00.971107",
     "status": "completed"
    },
    "tags": []
   },
   "outputs": [],
   "source": [
    "##removing unwanted columns in bangres table\n",
    "bangres=bangres.drop(['url','address','book_table','phone','reviews_list', 'menu_item','dish_liked'],axis=1)"
   ]
  },
  {
   "cell_type": "code",
   "execution_count": 7,
   "id": "373436dc",
   "metadata": {
    "execution": {
     "iopub.execute_input": "2022-01-14T10:59:01.102148Z",
     "iopub.status.busy": "2022-01-14T10:59:01.101439Z",
     "iopub.status.idle": "2022-01-14T10:59:01.114731Z",
     "shell.execute_reply": "2022-01-14T10:59:01.115267Z",
     "shell.execute_reply.started": "2022-01-14T09:34:20.414196Z"
    },
    "papermill": {
     "duration": 0.053092,
     "end_time": "2022-01-14T10:59:01.115437",
     "exception": false,
     "start_time": "2022-01-14T10:59:01.062345",
     "status": "completed"
    },
    "tags": []
   },
   "outputs": [
    {
     "data": {
      "text/html": [
       "<div>\n",
       "<style scoped>\n",
       "    .dataframe tbody tr th:only-of-type {\n",
       "        vertical-align: middle;\n",
       "    }\n",
       "\n",
       "    .dataframe tbody tr th {\n",
       "        vertical-align: top;\n",
       "    }\n",
       "\n",
       "    .dataframe thead th {\n",
       "        text-align: right;\n",
       "    }\n",
       "</style>\n",
       "<table border=\"1\" class=\"dataframe\">\n",
       "  <thead>\n",
       "    <tr style=\"text-align: right;\">\n",
       "      <th></th>\n",
       "      <th>name</th>\n",
       "      <th>online_order</th>\n",
       "      <th>rate</th>\n",
       "      <th>votes</th>\n",
       "      <th>location</th>\n",
       "      <th>rest_type</th>\n",
       "      <th>cuisines</th>\n",
       "      <th>approx_cost(for two people)</th>\n",
       "      <th>listed_in(type)</th>\n",
       "      <th>listed_in(city)</th>\n",
       "    </tr>\n",
       "  </thead>\n",
       "  <tbody>\n",
       "    <tr>\n",
       "      <th>0</th>\n",
       "      <td>Jalsa</td>\n",
       "      <td>Yes</td>\n",
       "      <td>4.1/5</td>\n",
       "      <td>775</td>\n",
       "      <td>Banashankari</td>\n",
       "      <td>Casual Dining</td>\n",
       "      <td>North Indian, Mughlai, Chinese</td>\n",
       "      <td>800</td>\n",
       "      <td>Buffet</td>\n",
       "      <td>Banashankari</td>\n",
       "    </tr>\n",
       "    <tr>\n",
       "      <th>1</th>\n",
       "      <td>Spice Elephant</td>\n",
       "      <td>Yes</td>\n",
       "      <td>4.1/5</td>\n",
       "      <td>787</td>\n",
       "      <td>Banashankari</td>\n",
       "      <td>Casual Dining</td>\n",
       "      <td>Chinese, North Indian, Thai</td>\n",
       "      <td>800</td>\n",
       "      <td>Buffet</td>\n",
       "      <td>Banashankari</td>\n",
       "    </tr>\n",
       "    <tr>\n",
       "      <th>2</th>\n",
       "      <td>San Churro Cafe</td>\n",
       "      <td>Yes</td>\n",
       "      <td>3.8/5</td>\n",
       "      <td>918</td>\n",
       "      <td>Banashankari</td>\n",
       "      <td>Cafe, Casual Dining</td>\n",
       "      <td>Cafe, Mexican, Italian</td>\n",
       "      <td>800</td>\n",
       "      <td>Buffet</td>\n",
       "      <td>Banashankari</td>\n",
       "    </tr>\n",
       "    <tr>\n",
       "      <th>3</th>\n",
       "      <td>Addhuri Udupi Bhojana</td>\n",
       "      <td>No</td>\n",
       "      <td>3.7/5</td>\n",
       "      <td>88</td>\n",
       "      <td>Banashankari</td>\n",
       "      <td>Quick Bites</td>\n",
       "      <td>South Indian, North Indian</td>\n",
       "      <td>300</td>\n",
       "      <td>Buffet</td>\n",
       "      <td>Banashankari</td>\n",
       "    </tr>\n",
       "    <tr>\n",
       "      <th>4</th>\n",
       "      <td>Grand Village</td>\n",
       "      <td>No</td>\n",
       "      <td>3.8/5</td>\n",
       "      <td>166</td>\n",
       "      <td>Basavanagudi</td>\n",
       "      <td>Casual Dining</td>\n",
       "      <td>North Indian, Rajasthani</td>\n",
       "      <td>600</td>\n",
       "      <td>Buffet</td>\n",
       "      <td>Banashankari</td>\n",
       "    </tr>\n",
       "  </tbody>\n",
       "</table>\n",
       "</div>"
      ],
      "text/plain": [
       "                    name online_order   rate  votes      location  \\\n",
       "0                  Jalsa          Yes  4.1/5    775  Banashankari   \n",
       "1         Spice Elephant          Yes  4.1/5    787  Banashankari   \n",
       "2        San Churro Cafe          Yes  3.8/5    918  Banashankari   \n",
       "3  Addhuri Udupi Bhojana           No  3.7/5     88  Banashankari   \n",
       "4          Grand Village           No  3.8/5    166  Basavanagudi   \n",
       "\n",
       "             rest_type                        cuisines  \\\n",
       "0        Casual Dining  North Indian, Mughlai, Chinese   \n",
       "1        Casual Dining     Chinese, North Indian, Thai   \n",
       "2  Cafe, Casual Dining          Cafe, Mexican, Italian   \n",
       "3          Quick Bites      South Indian, North Indian   \n",
       "4        Casual Dining        North Indian, Rajasthani   \n",
       "\n",
       "  approx_cost(for two people) listed_in(type) listed_in(city)  \n",
       "0                         800          Buffet    Banashankari  \n",
       "1                         800          Buffet    Banashankari  \n",
       "2                         800          Buffet    Banashankari  \n",
       "3                         300          Buffet    Banashankari  \n",
       "4                         600          Buffet    Banashankari  "
      ]
     },
     "execution_count": 7,
     "metadata": {},
     "output_type": "execute_result"
    }
   ],
   "source": [
    "bangres.head()"
   ]
  },
  {
   "cell_type": "code",
   "execution_count": 8,
   "id": "67573970",
   "metadata": {
    "execution": {
     "iopub.execute_input": "2022-01-14T10:59:01.198624Z",
     "iopub.status.busy": "2022-01-14T10:59:01.197953Z",
     "iopub.status.idle": "2022-01-14T10:59:01.213997Z",
     "shell.execute_reply": "2022-01-14T10:59:01.213433Z",
     "shell.execute_reply.started": "2022-01-14T09:34:20.440332Z"
    },
    "papermill": {
     "duration": 0.061801,
     "end_time": "2022-01-14T10:59:01.214139",
     "exception": false,
     "start_time": "2022-01-14T10:59:01.152338",
     "status": "completed"
    },
    "tags": []
   },
   "outputs": [
    {
     "data": {
      "text/html": [
       "<div>\n",
       "<style scoped>\n",
       "    .dataframe tbody tr th:only-of-type {\n",
       "        vertical-align: middle;\n",
       "    }\n",
       "\n",
       "    .dataframe tbody tr th {\n",
       "        vertical-align: top;\n",
       "    }\n",
       "\n",
       "    .dataframe thead th {\n",
       "        text-align: right;\n",
       "    }\n",
       "</style>\n",
       "<table border=\"1\" class=\"dataframe\">\n",
       "  <thead>\n",
       "    <tr style=\"text-align: right;\">\n",
       "      <th></th>\n",
       "      <th>votes</th>\n",
       "    </tr>\n",
       "  </thead>\n",
       "  <tbody>\n",
       "    <tr>\n",
       "      <th>count</th>\n",
       "      <td>51717.000000</td>\n",
       "    </tr>\n",
       "    <tr>\n",
       "      <th>mean</th>\n",
       "      <td>283.697527</td>\n",
       "    </tr>\n",
       "    <tr>\n",
       "      <th>std</th>\n",
       "      <td>803.838853</td>\n",
       "    </tr>\n",
       "    <tr>\n",
       "      <th>min</th>\n",
       "      <td>0.000000</td>\n",
       "    </tr>\n",
       "    <tr>\n",
       "      <th>25%</th>\n",
       "      <td>7.000000</td>\n",
       "    </tr>\n",
       "    <tr>\n",
       "      <th>50%</th>\n",
       "      <td>41.000000</td>\n",
       "    </tr>\n",
       "    <tr>\n",
       "      <th>75%</th>\n",
       "      <td>198.000000</td>\n",
       "    </tr>\n",
       "    <tr>\n",
       "      <th>max</th>\n",
       "      <td>16832.000000</td>\n",
       "    </tr>\n",
       "  </tbody>\n",
       "</table>\n",
       "</div>"
      ],
      "text/plain": [
       "              votes\n",
       "count  51717.000000\n",
       "mean     283.697527\n",
       "std      803.838853\n",
       "min        0.000000\n",
       "25%        7.000000\n",
       "50%       41.000000\n",
       "75%      198.000000\n",
       "max    16832.000000"
      ]
     },
     "execution_count": 8,
     "metadata": {},
     "output_type": "execute_result"
    }
   ],
   "source": [
    "bangres.describe()"
   ]
  },
  {
   "cell_type": "code",
   "execution_count": 9,
   "id": "f7aec4a4",
   "metadata": {
    "execution": {
     "iopub.execute_input": "2022-01-14T10:59:01.292899Z",
     "iopub.status.busy": "2022-01-14T10:59:01.292288Z",
     "iopub.status.idle": "2022-01-14T10:59:01.297607Z",
     "shell.execute_reply": "2022-01-14T10:59:01.297104Z",
     "shell.execute_reply.started": "2022-01-14T09:34:20.476922Z"
    },
    "papermill": {
     "duration": 0.045332,
     "end_time": "2022-01-14T10:59:01.297761",
     "exception": false,
     "start_time": "2022-01-14T10:59:01.252429",
     "status": "completed"
    },
    "tags": []
   },
   "outputs": [
    {
     "data": {
      "text/plain": [
       "(51717, 10)"
      ]
     },
     "execution_count": 9,
     "metadata": {},
     "output_type": "execute_result"
    }
   ],
   "source": [
    "bangres.shape"
   ]
  },
  {
   "cell_type": "code",
   "execution_count": 10,
   "id": "6dfe2eb6",
   "metadata": {
    "execution": {
     "iopub.execute_input": "2022-01-14T10:59:01.428207Z",
     "iopub.status.busy": "2022-01-14T10:59:01.427479Z",
     "iopub.status.idle": "2022-01-14T10:59:01.441068Z",
     "shell.execute_reply": "2022-01-14T10:59:01.440378Z",
     "shell.execute_reply.started": "2022-01-14T09:34:20.488599Z"
    },
    "papermill": {
     "duration": 0.105736,
     "end_time": "2022-01-14T10:59:01.441212",
     "exception": false,
     "start_time": "2022-01-14T10:59:01.335476",
     "status": "completed"
    },
    "tags": []
   },
   "outputs": [
    {
     "name": "stdout",
     "output_type": "stream",
     "text": [
      "<class 'pandas.core.frame.DataFrame'>\n",
      "RangeIndex: 51717 entries, 0 to 51716\n",
      "Data columns (total 10 columns):\n",
      " #   Column                       Non-Null Count  Dtype \n",
      "---  ------                       --------------  ----- \n",
      " 0   name                         51717 non-null  object\n",
      " 1   online_order                 51717 non-null  object\n",
      " 2   rate                         43942 non-null  object\n",
      " 3   votes                        51717 non-null  int64 \n",
      " 4   location                     51696 non-null  object\n",
      " 5   rest_type                    51490 non-null  object\n",
      " 6   cuisines                     51672 non-null  object\n",
      " 7   approx_cost(for two people)  51371 non-null  object\n",
      " 8   listed_in(type)              51717 non-null  object\n",
      " 9   listed_in(city)              51717 non-null  object\n",
      "dtypes: int64(1), object(9)\n",
      "memory usage: 3.9+ MB\n"
     ]
    }
   ],
   "source": [
    "bangres.info()"
   ]
  },
  {
   "cell_type": "code",
   "execution_count": 11,
   "id": "711c6a18",
   "metadata": {
    "execution": {
     "iopub.execute_input": "2022-01-14T10:59:01.523951Z",
     "iopub.status.busy": "2022-01-14T10:59:01.520972Z",
     "iopub.status.idle": "2022-01-14T10:59:01.588999Z",
     "shell.execute_reply": "2022-01-14T10:59:01.589457Z",
     "shell.execute_reply.started": "2022-01-14T09:34:20.567026Z"
    },
    "papermill": {
     "duration": 0.110105,
     "end_time": "2022-01-14T10:59:01.589631",
     "exception": false,
     "start_time": "2022-01-14T10:59:01.479526",
     "status": "completed"
    },
    "tags": []
   },
   "outputs": [
    {
     "data": {
      "text/plain": [
       "(51609, 10)"
      ]
     },
     "execution_count": 11,
     "metadata": {},
     "output_type": "execute_result"
    }
   ],
   "source": [
    "##removing duplicates\n",
    "bangres.drop_duplicates(inplace=True)\n",
    "bangres.shape"
   ]
  },
  {
   "cell_type": "code",
   "execution_count": 12,
   "id": "9f2d5847",
   "metadata": {
    "execution": {
     "iopub.execute_input": "2022-01-14T10:59:01.669901Z",
     "iopub.status.busy": "2022-01-14T10:59:01.669246Z",
     "iopub.status.idle": "2022-01-14T10:59:01.676029Z",
     "shell.execute_reply": "2022-01-14T10:59:01.676611Z",
     "shell.execute_reply.started": "2022-01-14T09:34:20.654477Z"
    },
    "papermill": {
     "duration": 0.048648,
     "end_time": "2022-01-14T10:59:01.676772",
     "exception": false,
     "start_time": "2022-01-14T10:59:01.628124",
     "status": "completed"
    },
    "tags": []
   },
   "outputs": [
    {
     "data": {
      "text/plain": [
       "<bound method Series.unique of 0         4.1/5\n",
       "1         4.1/5\n",
       "2         3.8/5\n",
       "3         3.7/5\n",
       "4         3.8/5\n",
       "          ...  \n",
       "51712    3.6 /5\n",
       "51713       NaN\n",
       "51714       NaN\n",
       "51715    4.3 /5\n",
       "51716    3.4 /5\n",
       "Name: rate, Length: 51609, dtype: object>"
      ]
     },
     "execution_count": 12,
     "metadata": {},
     "output_type": "execute_result"
    }
   ],
   "source": [
    "bangres.head()\n",
    "##unique values in rates \n",
    "bangres['rate'].unique"
   ]
  },
  {
   "cell_type": "code",
   "execution_count": 13,
   "id": "32b32806",
   "metadata": {
    "execution": {
     "iopub.execute_input": "2022-01-14T10:59:01.757303Z",
     "iopub.status.busy": "2022-01-14T10:59:01.756677Z",
     "iopub.status.idle": "2022-01-14T10:59:01.824337Z",
     "shell.execute_reply": "2022-01-14T10:59:01.823664Z",
     "shell.execute_reply.started": "2022-01-14T09:34:20.665646Z"
    },
    "papermill": {
     "duration": 0.108816,
     "end_time": "2022-01-14T10:59:01.824487",
     "exception": false,
     "start_time": "2022-01-14T10:59:01.715671",
     "status": "completed"
    },
    "tags": []
   },
   "outputs": [],
   "source": [
    "##cleaning rates\n",
    "def remove(val):\n",
    "    if(val=='NEW' or val=='-'):\n",
    "        return np.nan\n",
    "    else:\n",
    "        val=str(val).split('/')\n",
    "        val=val[0]\n",
    "        return float(val)\n",
    "    \n",
    "      \n",
    "bangres['rate']=bangres['rate'].apply(remove)"
   ]
  },
  {
   "cell_type": "code",
   "execution_count": 14,
   "id": "bb64925c",
   "metadata": {
    "execution": {
     "iopub.execute_input": "2022-01-14T10:59:01.918380Z",
     "iopub.status.busy": "2022-01-14T10:59:01.917469Z",
     "iopub.status.idle": "2022-01-14T10:59:01.921563Z",
     "shell.execute_reply": "2022-01-14T10:59:01.920955Z",
     "shell.execute_reply.started": "2022-01-14T09:34:20.747624Z"
    },
    "papermill": {
     "duration": 0.057561,
     "end_time": "2022-01-14T10:59:01.921695",
     "exception": false,
     "start_time": "2022-01-14T10:59:01.864134",
     "status": "completed"
    },
    "tags": []
   },
   "outputs": [
    {
     "data": {
      "text/html": [
       "<div>\n",
       "<style scoped>\n",
       "    .dataframe tbody tr th:only-of-type {\n",
       "        vertical-align: middle;\n",
       "    }\n",
       "\n",
       "    .dataframe tbody tr th {\n",
       "        vertical-align: top;\n",
       "    }\n",
       "\n",
       "    .dataframe thead th {\n",
       "        text-align: right;\n",
       "    }\n",
       "</style>\n",
       "<table border=\"1\" class=\"dataframe\">\n",
       "  <thead>\n",
       "    <tr style=\"text-align: right;\">\n",
       "      <th></th>\n",
       "      <th>name</th>\n",
       "      <th>online_order</th>\n",
       "      <th>rate</th>\n",
       "      <th>votes</th>\n",
       "      <th>location</th>\n",
       "      <th>rest_type</th>\n",
       "      <th>cuisines</th>\n",
       "      <th>approx_cost(for two people)</th>\n",
       "      <th>listed_in(type)</th>\n",
       "      <th>listed_in(city)</th>\n",
       "    </tr>\n",
       "  </thead>\n",
       "  <tbody>\n",
       "    <tr>\n",
       "      <th>0</th>\n",
       "      <td>Jalsa</td>\n",
       "      <td>Yes</td>\n",
       "      <td>4.1</td>\n",
       "      <td>775</td>\n",
       "      <td>Banashankari</td>\n",
       "      <td>Casual Dining</td>\n",
       "      <td>North Indian, Mughlai, Chinese</td>\n",
       "      <td>800</td>\n",
       "      <td>Buffet</td>\n",
       "      <td>Banashankari</td>\n",
       "    </tr>\n",
       "    <tr>\n",
       "      <th>1</th>\n",
       "      <td>Spice Elephant</td>\n",
       "      <td>Yes</td>\n",
       "      <td>4.1</td>\n",
       "      <td>787</td>\n",
       "      <td>Banashankari</td>\n",
       "      <td>Casual Dining</td>\n",
       "      <td>Chinese, North Indian, Thai</td>\n",
       "      <td>800</td>\n",
       "      <td>Buffet</td>\n",
       "      <td>Banashankari</td>\n",
       "    </tr>\n",
       "    <tr>\n",
       "      <th>2</th>\n",
       "      <td>San Churro Cafe</td>\n",
       "      <td>Yes</td>\n",
       "      <td>3.8</td>\n",
       "      <td>918</td>\n",
       "      <td>Banashankari</td>\n",
       "      <td>Cafe, Casual Dining</td>\n",
       "      <td>Cafe, Mexican, Italian</td>\n",
       "      <td>800</td>\n",
       "      <td>Buffet</td>\n",
       "      <td>Banashankari</td>\n",
       "    </tr>\n",
       "    <tr>\n",
       "      <th>3</th>\n",
       "      <td>Addhuri Udupi Bhojana</td>\n",
       "      <td>No</td>\n",
       "      <td>3.7</td>\n",
       "      <td>88</td>\n",
       "      <td>Banashankari</td>\n",
       "      <td>Quick Bites</td>\n",
       "      <td>South Indian, North Indian</td>\n",
       "      <td>300</td>\n",
       "      <td>Buffet</td>\n",
       "      <td>Banashankari</td>\n",
       "    </tr>\n",
       "    <tr>\n",
       "      <th>4</th>\n",
       "      <td>Grand Village</td>\n",
       "      <td>No</td>\n",
       "      <td>3.8</td>\n",
       "      <td>166</td>\n",
       "      <td>Basavanagudi</td>\n",
       "      <td>Casual Dining</td>\n",
       "      <td>North Indian, Rajasthani</td>\n",
       "      <td>600</td>\n",
       "      <td>Buffet</td>\n",
       "      <td>Banashankari</td>\n",
       "    </tr>\n",
       "  </tbody>\n",
       "</table>\n",
       "</div>"
      ],
      "text/plain": [
       "                    name online_order  rate  votes      location  \\\n",
       "0                  Jalsa          Yes   4.1    775  Banashankari   \n",
       "1         Spice Elephant          Yes   4.1    787  Banashankari   \n",
       "2        San Churro Cafe          Yes   3.8    918  Banashankari   \n",
       "3  Addhuri Udupi Bhojana           No   3.7     88  Banashankari   \n",
       "4          Grand Village           No   3.8    166  Basavanagudi   \n",
       "\n",
       "             rest_type                        cuisines  \\\n",
       "0        Casual Dining  North Indian, Mughlai, Chinese   \n",
       "1        Casual Dining     Chinese, North Indian, Thai   \n",
       "2  Cafe, Casual Dining          Cafe, Mexican, Italian   \n",
       "3          Quick Bites      South Indian, North Indian   \n",
       "4        Casual Dining        North Indian, Rajasthani   \n",
       "\n",
       "  approx_cost(for two people) listed_in(type) listed_in(city)  \n",
       "0                         800          Buffet    Banashankari  \n",
       "1                         800          Buffet    Banashankari  \n",
       "2                         800          Buffet    Banashankari  \n",
       "3                         300          Buffet    Banashankari  \n",
       "4                         600          Buffet    Banashankari  "
      ]
     },
     "execution_count": 14,
     "metadata": {},
     "output_type": "execute_result"
    }
   ],
   "source": [
    "##checking whether /5 and - is removed or not \n",
    "bangres.head()"
   ]
  },
  {
   "cell_type": "code",
   "execution_count": 15,
   "id": "0f225c35",
   "metadata": {
    "execution": {
     "iopub.execute_input": "2022-01-14T10:59:02.008275Z",
     "iopub.status.busy": "2022-01-14T10:59:02.006962Z",
     "iopub.status.idle": "2022-01-14T10:59:02.011628Z",
     "shell.execute_reply": "2022-01-14T10:59:02.011068Z",
     "shell.execute_reply.started": "2022-01-14T09:34:20.767877Z"
    },
    "papermill": {
     "duration": 0.049667,
     "end_time": "2022-01-14T10:59:02.011766",
     "exception": false,
     "start_time": "2022-01-14T10:59:01.962099",
     "status": "completed"
    },
    "tags": []
   },
   "outputs": [
    {
     "data": {
      "text/plain": [
       "10019"
      ]
     },
     "execution_count": 15,
     "metadata": {},
     "output_type": "execute_result"
    }
   ],
   "source": [
    "##checking null values in rate\n",
    "bangres.rate.isnull().sum()"
   ]
  },
  {
   "cell_type": "code",
   "execution_count": 16,
   "id": "efe73b0f",
   "metadata": {
    "execution": {
     "iopub.execute_input": "2022-01-14T10:59:02.095935Z",
     "iopub.status.busy": "2022-01-14T10:59:02.095282Z",
     "iopub.status.idle": "2022-01-14T10:59:02.101724Z",
     "shell.execute_reply": "2022-01-14T10:59:02.102250Z",
     "shell.execute_reply.started": "2022-01-14T09:34:20.784820Z"
    },
    "papermill": {
     "duration": 0.049826,
     "end_time": "2022-01-14T10:59:02.102423",
     "exception": false,
     "start_time": "2022-01-14T10:59:02.052597",
     "status": "completed"
    },
    "tags": []
   },
   "outputs": [
    {
     "data": {
      "text/plain": [
       "0"
      ]
     },
     "execution_count": 16,
     "metadata": {},
     "output_type": "execute_result"
    }
   ],
   "source": [
    "##removing the null in rate \n",
    "bangres['rate'].fillna(bangres['rate'].mean(),inplace=True)\n",
    "##checking whether nulls are removed \n",
    "bangres.rate.isnull().sum()"
   ]
  },
  {
   "cell_type": "code",
   "execution_count": 17,
   "id": "44d67533",
   "metadata": {
    "execution": {
     "iopub.execute_input": "2022-01-14T10:59:02.186816Z",
     "iopub.status.busy": "2022-01-14T10:59:02.186161Z",
     "iopub.status.idle": "2022-01-14T10:59:02.306476Z",
     "shell.execute_reply": "2022-01-14T10:59:02.306980Z",
     "shell.execute_reply.started": "2022-01-14T09:34:20.801067Z"
    },
    "papermill": {
     "duration": 0.16387,
     "end_time": "2022-01-14T10:59:02.307148",
     "exception": false,
     "start_time": "2022-01-14T10:59:02.143278",
     "status": "completed"
    },
    "tags": []
   },
   "outputs": [
    {
     "name": "stdout",
     "output_type": "stream",
     "text": [
      "<class 'pandas.core.frame.DataFrame'>\n",
      "Int64Index: 51609 entries, 0 to 51716\n",
      "Data columns (total 10 columns):\n",
      " #   Column                       Non-Null Count  Dtype  \n",
      "---  ------                       --------------  -----  \n",
      " 0   name                         51609 non-null  object \n",
      " 1   online_order                 51609 non-null  object \n",
      " 2   rate                         51609 non-null  float64\n",
      " 3   votes                        51609 non-null  int64  \n",
      " 4   location                     51588 non-null  object \n",
      " 5   rest_type                    51382 non-null  object \n",
      " 6   cuisines                     51564 non-null  object \n",
      " 7   approx_cost(for two people)  51265 non-null  object \n",
      " 8   listed_in(type)              51609 non-null  object \n",
      " 9   listed_in(city)              51609 non-null  object \n",
      "dtypes: float64(1), int64(1), object(8)\n",
      "memory usage: 4.3+ MB\n"
     ]
    },
    {
     "data": {
      "text/html": [
       "<div>\n",
       "<style scoped>\n",
       "    .dataframe tbody tr th:only-of-type {\n",
       "        vertical-align: middle;\n",
       "    }\n",
       "\n",
       "    .dataframe tbody tr th {\n",
       "        vertical-align: top;\n",
       "    }\n",
       "\n",
       "    .dataframe thead th {\n",
       "        text-align: right;\n",
       "    }\n",
       "</style>\n",
       "<table border=\"1\" class=\"dataframe\">\n",
       "  <thead>\n",
       "    <tr style=\"text-align: right;\">\n",
       "      <th></th>\n",
       "      <th>name</th>\n",
       "      <th>online_order</th>\n",
       "      <th>rate</th>\n",
       "      <th>votes</th>\n",
       "      <th>location</th>\n",
       "      <th>rest_type</th>\n",
       "      <th>cuisines</th>\n",
       "      <th>approx_cost(for two people)</th>\n",
       "      <th>listed_in(type)</th>\n",
       "      <th>listed_in(city)</th>\n",
       "    </tr>\n",
       "  </thead>\n",
       "  <tbody>\n",
       "    <tr>\n",
       "      <th>0</th>\n",
       "      <td>Jalsa</td>\n",
       "      <td>Yes</td>\n",
       "      <td>4.1</td>\n",
       "      <td>775</td>\n",
       "      <td>Banashankari</td>\n",
       "      <td>Casual Dining</td>\n",
       "      <td>North Indian, Mughlai, Chinese</td>\n",
       "      <td>800</td>\n",
       "      <td>Buffet</td>\n",
       "      <td>Banashankari</td>\n",
       "    </tr>\n",
       "    <tr>\n",
       "      <th>1</th>\n",
       "      <td>Spice Elephant</td>\n",
       "      <td>Yes</td>\n",
       "      <td>4.1</td>\n",
       "      <td>787</td>\n",
       "      <td>Banashankari</td>\n",
       "      <td>Casual Dining</td>\n",
       "      <td>Chinese, North Indian, Thai</td>\n",
       "      <td>800</td>\n",
       "      <td>Buffet</td>\n",
       "      <td>Banashankari</td>\n",
       "    </tr>\n",
       "    <tr>\n",
       "      <th>2</th>\n",
       "      <td>San Churro Cafe</td>\n",
       "      <td>Yes</td>\n",
       "      <td>3.8</td>\n",
       "      <td>918</td>\n",
       "      <td>Banashankari</td>\n",
       "      <td>Cafe, Casual Dining</td>\n",
       "      <td>Cafe, Mexican, Italian</td>\n",
       "      <td>800</td>\n",
       "      <td>Buffet</td>\n",
       "      <td>Banashankari</td>\n",
       "    </tr>\n",
       "    <tr>\n",
       "      <th>3</th>\n",
       "      <td>Addhuri Udupi Bhojana</td>\n",
       "      <td>No</td>\n",
       "      <td>3.7</td>\n",
       "      <td>88</td>\n",
       "      <td>Banashankari</td>\n",
       "      <td>Quick Bites</td>\n",
       "      <td>South Indian, North Indian</td>\n",
       "      <td>300</td>\n",
       "      <td>Buffet</td>\n",
       "      <td>Banashankari</td>\n",
       "    </tr>\n",
       "    <tr>\n",
       "      <th>4</th>\n",
       "      <td>Grand Village</td>\n",
       "      <td>No</td>\n",
       "      <td>3.8</td>\n",
       "      <td>166</td>\n",
       "      <td>Basavanagudi</td>\n",
       "      <td>Casual Dining</td>\n",
       "      <td>North Indian, Rajasthani</td>\n",
       "      <td>600</td>\n",
       "      <td>Buffet</td>\n",
       "      <td>Banashankari</td>\n",
       "    </tr>\n",
       "  </tbody>\n",
       "</table>\n",
       "</div>"
      ],
      "text/plain": [
       "                    name online_order  rate  votes      location  \\\n",
       "0                  Jalsa          Yes   4.1    775  Banashankari   \n",
       "1         Spice Elephant          Yes   4.1    787  Banashankari   \n",
       "2        San Churro Cafe          Yes   3.8    918  Banashankari   \n",
       "3  Addhuri Udupi Bhojana           No   3.7     88  Banashankari   \n",
       "4          Grand Village           No   3.8    166  Basavanagudi   \n",
       "\n",
       "             rest_type                        cuisines  \\\n",
       "0        Casual Dining  North Indian, Mughlai, Chinese   \n",
       "1        Casual Dining     Chinese, North Indian, Thai   \n",
       "2  Cafe, Casual Dining          Cafe, Mexican, Italian   \n",
       "3          Quick Bites      South Indian, North Indian   \n",
       "4        Casual Dining        North Indian, Rajasthani   \n",
       "\n",
       "  approx_cost(for two people) listed_in(type) listed_in(city)  \n",
       "0                         800          Buffet    Banashankari  \n",
       "1                         800          Buffet    Banashankari  \n",
       "2                         800          Buffet    Banashankari  \n",
       "3                         300          Buffet    Banashankari  \n",
       "4                         600          Buffet    Banashankari  "
      ]
     },
     "execution_count": 17,
     "metadata": {},
     "output_type": "execute_result"
    }
   ],
   "source": [
    "bangres.info()\n",
    "bangres.shape\n",
    "bangres.dropna(inplace=True)\n",
    "bangres.head()"
   ]
  },
  {
   "cell_type": "code",
   "execution_count": 18,
   "id": "a3d47ec3",
   "metadata": {
    "execution": {
     "iopub.execute_input": "2022-01-14T10:59:02.407044Z",
     "iopub.status.busy": "2022-01-14T10:59:02.406002Z",
     "iopub.status.idle": "2022-01-14T10:59:02.409492Z",
     "shell.execute_reply": "2022-01-14T10:59:02.409994Z",
     "shell.execute_reply.started": "2022-01-14T09:34:20.939563Z"
    },
    "papermill": {
     "duration": 0.061951,
     "end_time": "2022-01-14T10:59:02.410169",
     "exception": false,
     "start_time": "2022-01-14T10:59:02.348218",
     "status": "completed"
    },
    "tags": []
   },
   "outputs": [
    {
     "data": {
      "text/html": [
       "<div>\n",
       "<style scoped>\n",
       "    .dataframe tbody tr th:only-of-type {\n",
       "        vertical-align: middle;\n",
       "    }\n",
       "\n",
       "    .dataframe tbody tr th {\n",
       "        vertical-align: top;\n",
       "    }\n",
       "\n",
       "    .dataframe thead th {\n",
       "        text-align: right;\n",
       "    }\n",
       "</style>\n",
       "<table border=\"1\" class=\"dataframe\">\n",
       "  <thead>\n",
       "    <tr style=\"text-align: right;\">\n",
       "      <th></th>\n",
       "      <th>name</th>\n",
       "      <th>online_order</th>\n",
       "      <th>rate</th>\n",
       "      <th>votes</th>\n",
       "      <th>location</th>\n",
       "      <th>rest_type</th>\n",
       "      <th>cuisines</th>\n",
       "      <th>cost_of_2</th>\n",
       "      <th>service_type</th>\n",
       "      <th>listed_in(city)</th>\n",
       "    </tr>\n",
       "  </thead>\n",
       "  <tbody>\n",
       "    <tr>\n",
       "      <th>0</th>\n",
       "      <td>Jalsa</td>\n",
       "      <td>Yes</td>\n",
       "      <td>4.1</td>\n",
       "      <td>775</td>\n",
       "      <td>Banashankari</td>\n",
       "      <td>Casual Dining</td>\n",
       "      <td>North Indian, Mughlai, Chinese</td>\n",
       "      <td>800</td>\n",
       "      <td>Buffet</td>\n",
       "      <td>Banashankari</td>\n",
       "    </tr>\n",
       "    <tr>\n",
       "      <th>1</th>\n",
       "      <td>Spice Elephant</td>\n",
       "      <td>Yes</td>\n",
       "      <td>4.1</td>\n",
       "      <td>787</td>\n",
       "      <td>Banashankari</td>\n",
       "      <td>Casual Dining</td>\n",
       "      <td>Chinese, North Indian, Thai</td>\n",
       "      <td>800</td>\n",
       "      <td>Buffet</td>\n",
       "      <td>Banashankari</td>\n",
       "    </tr>\n",
       "    <tr>\n",
       "      <th>2</th>\n",
       "      <td>San Churro Cafe</td>\n",
       "      <td>Yes</td>\n",
       "      <td>3.8</td>\n",
       "      <td>918</td>\n",
       "      <td>Banashankari</td>\n",
       "      <td>Cafe, Casual Dining</td>\n",
       "      <td>Cafe, Mexican, Italian</td>\n",
       "      <td>800</td>\n",
       "      <td>Buffet</td>\n",
       "      <td>Banashankari</td>\n",
       "    </tr>\n",
       "    <tr>\n",
       "      <th>3</th>\n",
       "      <td>Addhuri Udupi Bhojana</td>\n",
       "      <td>No</td>\n",
       "      <td>3.7</td>\n",
       "      <td>88</td>\n",
       "      <td>Banashankari</td>\n",
       "      <td>Quick Bites</td>\n",
       "      <td>South Indian, North Indian</td>\n",
       "      <td>300</td>\n",
       "      <td>Buffet</td>\n",
       "      <td>Banashankari</td>\n",
       "    </tr>\n",
       "    <tr>\n",
       "      <th>4</th>\n",
       "      <td>Grand Village</td>\n",
       "      <td>No</td>\n",
       "      <td>3.8</td>\n",
       "      <td>166</td>\n",
       "      <td>Basavanagudi</td>\n",
       "      <td>Casual Dining</td>\n",
       "      <td>North Indian, Rajasthani</td>\n",
       "      <td>600</td>\n",
       "      <td>Buffet</td>\n",
       "      <td>Banashankari</td>\n",
       "    </tr>\n",
       "  </tbody>\n",
       "</table>\n",
       "</div>"
      ],
      "text/plain": [
       "                    name online_order  rate  votes      location  \\\n",
       "0                  Jalsa          Yes   4.1    775  Banashankari   \n",
       "1         Spice Elephant          Yes   4.1    787  Banashankari   \n",
       "2        San Churro Cafe          Yes   3.8    918  Banashankari   \n",
       "3  Addhuri Udupi Bhojana           No   3.7     88  Banashankari   \n",
       "4          Grand Village           No   3.8    166  Basavanagudi   \n",
       "\n",
       "             rest_type                        cuisines cost_of_2 service_type  \\\n",
       "0        Casual Dining  North Indian, Mughlai, Chinese       800       Buffet   \n",
       "1        Casual Dining     Chinese, North Indian, Thai       800       Buffet   \n",
       "2  Cafe, Casual Dining          Cafe, Mexican, Italian       800       Buffet   \n",
       "3          Quick Bites      South Indian, North Indian       300       Buffet   \n",
       "4        Casual Dining        North Indian, Rajasthani       600       Buffet   \n",
       "\n",
       "  listed_in(city)  \n",
       "0    Banashankari  \n",
       "1    Banashankari  \n",
       "2    Banashankari  \n",
       "3    Banashankari  \n",
       "4    Banashankari  "
      ]
     },
     "execution_count": 18,
     "metadata": {},
     "output_type": "execute_result"
    }
   ],
   "source": [
    "##renaming some columns\n",
    "bangres.rename(columns={'approx_cost(for two people)':'cost_of_2','listed_in(type)':'restraunt_type'},inplace=True)\n",
    "bangres.head()\n",
    "bangres.rename(columns={'restraunt_type':'service_type'},inplace=True)\n",
    "bangres.head()"
   ]
  },
  {
   "cell_type": "code",
   "execution_count": 19,
   "id": "cf46fd49",
   "metadata": {
    "execution": {
     "iopub.execute_input": "2022-01-14T10:59:02.501756Z",
     "iopub.status.busy": "2022-01-14T10:59:02.501115Z",
     "iopub.status.idle": "2022-01-14T10:59:02.507413Z",
     "shell.execute_reply": "2022-01-14T10:59:02.506821Z",
     "shell.execute_reply.started": "2022-01-14T09:34:20.964122Z"
    },
    "papermill": {
     "duration": 0.055023,
     "end_time": "2022-01-14T10:59:02.507554",
     "exception": false,
     "start_time": "2022-01-14T10:59:02.452531",
     "status": "completed"
    },
    "tags": []
   },
   "outputs": [
    {
     "data": {
      "text/plain": [
       "array(['Banashankari', 'Basavanagudi', 'Mysore Road', 'Jayanagar',\n",
       "       'Kumaraswamy Layout', 'Rajarajeshwari Nagar', 'Vijay Nagar',\n",
       "       'Uttarahalli', 'JP Nagar', 'South Bangalore', 'City Market',\n",
       "       'Nagarbhavi', 'Bannerghatta Road', 'BTM', 'Kanakapura Road',\n",
       "       'Bommanahalli', 'CV Raman Nagar', 'Electronic City', 'HSR',\n",
       "       'Marathahalli', 'Wilson Garden', 'Shanti Nagar',\n",
       "       'Koramangala 5th Block', 'Koramangala 8th Block', 'Richmond Road',\n",
       "       'Koramangala 7th Block', 'Jalahalli', 'Koramangala 4th Block',\n",
       "       'Bellandur', 'Sarjapur Road', 'Whitefield', 'East Bangalore',\n",
       "       'Old Airport Road', 'Indiranagar', 'Koramangala 1st Block',\n",
       "       'Frazer Town', 'RT Nagar', 'MG Road', 'Brigade Road',\n",
       "       'Lavelle Road', 'Church Street', 'Ulsoor', 'Residency Road',\n",
       "       'Shivajinagar', 'Infantry Road', 'St. Marks Road',\n",
       "       'Cunningham Road', 'Race Course Road', 'Commercial Street',\n",
       "       'Vasanth Nagar', 'HBR Layout', 'Domlur', 'Ejipura',\n",
       "       'Jeevan Bhima Nagar', 'Old Madras Road', 'Malleshwaram',\n",
       "       'Seshadripuram', 'Kammanahalli', 'Koramangala 6th Block',\n",
       "       'Majestic', 'Langford Town', 'Central Bangalore', 'Sanjay Nagar',\n",
       "       'Brookefield', 'ITPL Main Road, Whitefield',\n",
       "       'Varthur Main Road, Whitefield', 'KR Puram',\n",
       "       'Koramangala 2nd Block', 'Koramangala 3rd Block', 'Koramangala',\n",
       "       'Hosur Road', 'Rajajinagar', 'Banaswadi', 'North Bangalore',\n",
       "       'Nagawara', 'Hennur', 'Kalyan Nagar', 'New BEL Road', 'Jakkur',\n",
       "       'Rammurthy Nagar', 'Thippasandra', 'Kaggadasapura', 'Hebbal',\n",
       "       'Kengeri', 'Sankey Road', 'Sadashiv Nagar', 'Basaveshwara Nagar',\n",
       "       'Yeshwantpur', 'West Bangalore', 'Magadi Road', 'Yelahanka',\n",
       "       'Sahakara Nagar', 'Peenya'], dtype=object)"
      ]
     },
     "execution_count": 19,
     "metadata": {},
     "output_type": "execute_result"
    }
   ],
   "source": [
    "#cleaning location \n",
    "bangres['location'].unique()"
   ]
  },
  {
   "cell_type": "code",
   "execution_count": 20,
   "id": "a04ebb56",
   "metadata": {
    "execution": {
     "iopub.execute_input": "2022-01-14T10:59:02.597479Z",
     "iopub.status.busy": "2022-01-14T10:59:02.596742Z",
     "iopub.status.idle": "2022-01-14T10:59:02.599377Z",
     "shell.execute_reply": "2022-01-14T10:59:02.599838Z",
     "shell.execute_reply.started": "2022-01-14T09:34:20.988618Z"
    },
    "papermill": {
     "duration": 0.050301,
     "end_time": "2022-01-14T10:59:02.600029",
     "exception": false,
     "start_time": "2022-01-14T10:59:02.549728",
     "status": "completed"
    },
    "tags": []
   },
   "outputs": [
    {
     "data": {
      "text/plain": [
       "Index(['name', 'online_order', 'rate', 'votes', 'location', 'rest_type',\n",
       "       'cuisines', 'cost_of_2', 'service_type', 'listed_in(city)'],\n",
       "      dtype='object')"
      ]
     },
     "execution_count": 20,
     "metadata": {},
     "output_type": "execute_result"
    }
   ],
   "source": [
    "bangres.columns"
   ]
  },
  {
   "cell_type": "code",
   "execution_count": 21,
   "id": "8b698547",
   "metadata": {
    "execution": {
     "iopub.execute_input": "2022-01-14T10:59:02.697442Z",
     "iopub.status.busy": "2022-01-14T10:59:02.696742Z",
     "iopub.status.idle": "2022-01-14T10:59:02.705755Z",
     "shell.execute_reply": "2022-01-14T10:59:02.706266Z",
     "shell.execute_reply.started": "2022-01-14T09:34:20.999848Z"
    },
    "papermill": {
     "duration": 0.064296,
     "end_time": "2022-01-14T10:59:02.706445",
     "exception": false,
     "start_time": "2022-01-14T10:59:02.642149",
     "status": "completed"
    },
    "tags": []
   },
   "outputs": [
    {
     "data": {
      "text/html": [
       "<div>\n",
       "<style scoped>\n",
       "    .dataframe tbody tr th:only-of-type {\n",
       "        vertical-align: middle;\n",
       "    }\n",
       "\n",
       "    .dataframe tbody tr th {\n",
       "        vertical-align: top;\n",
       "    }\n",
       "\n",
       "    .dataframe thead th {\n",
       "        text-align: right;\n",
       "    }\n",
       "</style>\n",
       "<table border=\"1\" class=\"dataframe\">\n",
       "  <thead>\n",
       "    <tr style=\"text-align: right;\">\n",
       "      <th></th>\n",
       "      <th>name</th>\n",
       "      <th>online_order</th>\n",
       "      <th>rate</th>\n",
       "      <th>votes</th>\n",
       "      <th>location</th>\n",
       "      <th>rest_type</th>\n",
       "      <th>cuisines</th>\n",
       "      <th>cost_of_2</th>\n",
       "      <th>service_type</th>\n",
       "    </tr>\n",
       "  </thead>\n",
       "  <tbody>\n",
       "    <tr>\n",
       "      <th>0</th>\n",
       "      <td>Jalsa</td>\n",
       "      <td>Yes</td>\n",
       "      <td>4.1</td>\n",
       "      <td>775</td>\n",
       "      <td>Banashankari</td>\n",
       "      <td>Casual Dining</td>\n",
       "      <td>North Indian, Mughlai, Chinese</td>\n",
       "      <td>800</td>\n",
       "      <td>Buffet</td>\n",
       "    </tr>\n",
       "    <tr>\n",
       "      <th>1</th>\n",
       "      <td>Spice Elephant</td>\n",
       "      <td>Yes</td>\n",
       "      <td>4.1</td>\n",
       "      <td>787</td>\n",
       "      <td>Banashankari</td>\n",
       "      <td>Casual Dining</td>\n",
       "      <td>Chinese, North Indian, Thai</td>\n",
       "      <td>800</td>\n",
       "      <td>Buffet</td>\n",
       "    </tr>\n",
       "    <tr>\n",
       "      <th>2</th>\n",
       "      <td>San Churro Cafe</td>\n",
       "      <td>Yes</td>\n",
       "      <td>3.8</td>\n",
       "      <td>918</td>\n",
       "      <td>Banashankari</td>\n",
       "      <td>Cafe, Casual Dining</td>\n",
       "      <td>Cafe, Mexican, Italian</td>\n",
       "      <td>800</td>\n",
       "      <td>Buffet</td>\n",
       "    </tr>\n",
       "    <tr>\n",
       "      <th>3</th>\n",
       "      <td>Addhuri Udupi Bhojana</td>\n",
       "      <td>No</td>\n",
       "      <td>3.7</td>\n",
       "      <td>88</td>\n",
       "      <td>Banashankari</td>\n",
       "      <td>Quick Bites</td>\n",
       "      <td>South Indian, North Indian</td>\n",
       "      <td>300</td>\n",
       "      <td>Buffet</td>\n",
       "    </tr>\n",
       "    <tr>\n",
       "      <th>4</th>\n",
       "      <td>Grand Village</td>\n",
       "      <td>No</td>\n",
       "      <td>3.8</td>\n",
       "      <td>166</td>\n",
       "      <td>Basavanagudi</td>\n",
       "      <td>Casual Dining</td>\n",
       "      <td>North Indian, Rajasthani</td>\n",
       "      <td>600</td>\n",
       "      <td>Buffet</td>\n",
       "    </tr>\n",
       "  </tbody>\n",
       "</table>\n",
       "</div>"
      ],
      "text/plain": [
       "                    name online_order  rate  votes      location  \\\n",
       "0                  Jalsa          Yes   4.1    775  Banashankari   \n",
       "1         Spice Elephant          Yes   4.1    787  Banashankari   \n",
       "2        San Churro Cafe          Yes   3.8    918  Banashankari   \n",
       "3  Addhuri Udupi Bhojana           No   3.7     88  Banashankari   \n",
       "4          Grand Village           No   3.8    166  Basavanagudi   \n",
       "\n",
       "             rest_type                        cuisines cost_of_2 service_type  \n",
       "0        Casual Dining  North Indian, Mughlai, Chinese       800       Buffet  \n",
       "1        Casual Dining     Chinese, North Indian, Thai       800       Buffet  \n",
       "2  Cafe, Casual Dining          Cafe, Mexican, Italian       800       Buffet  \n",
       "3          Quick Bites      South Indian, North Indian       300       Buffet  \n",
       "4        Casual Dining        North Indian, Rajasthani       600       Buffet  "
      ]
     },
     "execution_count": 21,
     "metadata": {},
     "output_type": "execute_result"
    }
   ],
   "source": [
    "bangres.drop(['listed_in(city)'],axis=1,inplace=True)\n",
    "bangres.head()"
   ]
  },
  {
   "cell_type": "code",
   "execution_count": 22,
   "id": "bf863cc9",
   "metadata": {
    "execution": {
     "iopub.execute_input": "2022-01-14T10:59:02.795652Z",
     "iopub.status.busy": "2022-01-14T10:59:02.795053Z",
     "iopub.status.idle": "2022-01-14T10:59:02.805208Z",
     "shell.execute_reply": "2022-01-14T10:59:02.804557Z",
     "shell.execute_reply.started": "2022-01-14T09:34:21.030101Z"
    },
    "papermill": {
     "duration": 0.055758,
     "end_time": "2022-01-14T10:59:02.805352",
     "exception": false,
     "start_time": "2022-01-14T10:59:02.749594",
     "status": "completed"
    },
    "tags": []
   },
   "outputs": [
    {
     "data": {
      "text/plain": [
       "array(['800', '300', '600', '700', '550', '500', '450', '650', '400',\n",
       "       '900', '200', '750', '150', '850', '100', '1,200', '350', '250',\n",
       "       '950', '1,000', '1,500', '1,300', '199', '80', '1,100', '160',\n",
       "       '1,600', '230', '130', '50', '190', '1,700', '1,400', '180',\n",
       "       '1,350', '2,200', '2,000', '1,800', '1,900', '330', '2,500',\n",
       "       '2,100', '3,000', '2,800', '3,400', '40', '1,250', '3,500',\n",
       "       '4,000', '2,400', '2,600', '120', '1,450', '469', '70', '3,200',\n",
       "       '60', '560', '240', '360', '6,000', '1,050', '2,300', '4,100',\n",
       "       '5,000', '3,700', '1,650', '2,700', '4,500', '140'], dtype=object)"
      ]
     },
     "execution_count": 22,
     "metadata": {},
     "output_type": "execute_result"
    }
   ],
   "source": [
    "bangres['cost_of_2'].unique()"
   ]
  },
  {
   "cell_type": "code",
   "execution_count": 23,
   "id": "23f4afaf",
   "metadata": {
    "execution": {
     "iopub.execute_input": "2022-01-14T10:59:02.898833Z",
     "iopub.status.busy": "2022-01-14T10:59:02.897775Z",
     "iopub.status.idle": "2022-01-14T10:59:02.954936Z",
     "shell.execute_reply": "2022-01-14T10:59:02.955473Z",
     "shell.execute_reply.started": "2022-01-14T09:34:21.059200Z"
    },
    "papermill": {
     "duration": 0.107173,
     "end_time": "2022-01-14T10:59:02.955644",
     "exception": false,
     "start_time": "2022-01-14T10:59:02.848471",
     "status": "completed"
    },
    "tags": []
   },
   "outputs": [
    {
     "data": {
      "text/html": [
       "<div>\n",
       "<style scoped>\n",
       "    .dataframe tbody tr th:only-of-type {\n",
       "        vertical-align: middle;\n",
       "    }\n",
       "\n",
       "    .dataframe tbody tr th {\n",
       "        vertical-align: top;\n",
       "    }\n",
       "\n",
       "    .dataframe thead th {\n",
       "        text-align: right;\n",
       "    }\n",
       "</style>\n",
       "<table border=\"1\" class=\"dataframe\">\n",
       "  <thead>\n",
       "    <tr style=\"text-align: right;\">\n",
       "      <th></th>\n",
       "      <th>name</th>\n",
       "      <th>online_order</th>\n",
       "      <th>rate</th>\n",
       "      <th>votes</th>\n",
       "      <th>location</th>\n",
       "      <th>rest_type</th>\n",
       "      <th>cuisines</th>\n",
       "      <th>cost_of_2</th>\n",
       "      <th>service_type</th>\n",
       "    </tr>\n",
       "  </thead>\n",
       "  <tbody>\n",
       "    <tr>\n",
       "      <th>0</th>\n",
       "      <td>Jalsa</td>\n",
       "      <td>Yes</td>\n",
       "      <td>4.1</td>\n",
       "      <td>775</td>\n",
       "      <td>Banashankari</td>\n",
       "      <td>Casual Dining</td>\n",
       "      <td>North Indian, Mughlai, Chinese</td>\n",
       "      <td>800.0</td>\n",
       "      <td>Buffet</td>\n",
       "    </tr>\n",
       "    <tr>\n",
       "      <th>1</th>\n",
       "      <td>Spice Elephant</td>\n",
       "      <td>Yes</td>\n",
       "      <td>4.1</td>\n",
       "      <td>787</td>\n",
       "      <td>Banashankari</td>\n",
       "      <td>Casual Dining</td>\n",
       "      <td>Chinese, North Indian, Thai</td>\n",
       "      <td>800.0</td>\n",
       "      <td>Buffet</td>\n",
       "    </tr>\n",
       "    <tr>\n",
       "      <th>2</th>\n",
       "      <td>San Churro Cafe</td>\n",
       "      <td>Yes</td>\n",
       "      <td>3.8</td>\n",
       "      <td>918</td>\n",
       "      <td>Banashankari</td>\n",
       "      <td>Cafe, Casual Dining</td>\n",
       "      <td>Cafe, Mexican, Italian</td>\n",
       "      <td>800.0</td>\n",
       "      <td>Buffet</td>\n",
       "    </tr>\n",
       "    <tr>\n",
       "      <th>3</th>\n",
       "      <td>Addhuri Udupi Bhojana</td>\n",
       "      <td>No</td>\n",
       "      <td>3.7</td>\n",
       "      <td>88</td>\n",
       "      <td>Banashankari</td>\n",
       "      <td>Quick Bites</td>\n",
       "      <td>South Indian, North Indian</td>\n",
       "      <td>300.0</td>\n",
       "      <td>Buffet</td>\n",
       "    </tr>\n",
       "    <tr>\n",
       "      <th>4</th>\n",
       "      <td>Grand Village</td>\n",
       "      <td>No</td>\n",
       "      <td>3.8</td>\n",
       "      <td>166</td>\n",
       "      <td>Basavanagudi</td>\n",
       "      <td>Casual Dining</td>\n",
       "      <td>North Indian, Rajasthani</td>\n",
       "      <td>600.0</td>\n",
       "      <td>Buffet</td>\n",
       "    </tr>\n",
       "  </tbody>\n",
       "</table>\n",
       "</div>"
      ],
      "text/plain": [
       "                    name online_order  rate  votes      location  \\\n",
       "0                  Jalsa          Yes   4.1    775  Banashankari   \n",
       "1         Spice Elephant          Yes   4.1    787  Banashankari   \n",
       "2        San Churro Cafe          Yes   3.8    918  Banashankari   \n",
       "3  Addhuri Udupi Bhojana           No   3.7     88  Banashankari   \n",
       "4          Grand Village           No   3.8    166  Basavanagudi   \n",
       "\n",
       "             rest_type                        cuisines  cost_of_2 service_type  \n",
       "0        Casual Dining  North Indian, Mughlai, Chinese      800.0       Buffet  \n",
       "1        Casual Dining     Chinese, North Indian, Thai      800.0       Buffet  \n",
       "2  Cafe, Casual Dining          Cafe, Mexican, Italian      800.0       Buffet  \n",
       "3          Quick Bites      South Indian, North Indian      300.0       Buffet  \n",
       "4        Casual Dining        North Indian, Rajasthani      600.0       Buffet  "
      ]
     },
     "execution_count": 23,
     "metadata": {},
     "output_type": "execute_result"
    }
   ],
   "source": [
    "##removing ,'s from the column cost_of_2\n",
    "def change(cost):\n",
    "    cost=str(cost)\n",
    "    if ',' in cost:\n",
    "        cost=cost.replace(',','')\n",
    "        return float(cost)\n",
    "    else:\n",
    "        return float(cost)\n",
    "    \n",
    "bangres['cost_of_2']=bangres['cost_of_2'].apply(change)\n",
    "bangres['cost_of_2'].head()\n",
    "bangres.head()"
   ]
  },
  {
   "cell_type": "code",
   "execution_count": 24,
   "id": "6f599e60",
   "metadata": {
    "execution": {
     "iopub.execute_input": "2022-01-14T10:59:03.046997Z",
     "iopub.status.busy": "2022-01-14T10:59:03.045947Z",
     "iopub.status.idle": "2022-01-14T10:59:03.057431Z",
     "shell.execute_reply": "2022-01-14T10:59:03.058038Z",
     "shell.execute_reply.started": "2022-01-14T09:34:21.137669Z"
    },
    "papermill": {
     "duration": 0.058878,
     "end_time": "2022-01-14T10:59:03.058207",
     "exception": false,
     "start_time": "2022-01-14T10:59:02.999329",
     "status": "completed"
    },
    "tags": []
   },
   "outputs": [
    {
     "data": {
      "text/plain": [
       "array(['Casual Dining', 'Cafe, Casual Dining', 'Quick Bites',\n",
       "       'Casual Dining, Cafe', 'Cafe', 'Quick Bites, Cafe',\n",
       "       'Cafe, Quick Bites', 'Delivery', 'Mess', 'Dessert Parlor',\n",
       "       'Bakery, Dessert Parlor', 'Pub', 'Bakery', 'Takeaway, Delivery',\n",
       "       'Fine Dining', 'Beverage Shop', 'Sweet Shop', 'Bar',\n",
       "       'Beverage Shop, Quick Bites', 'Confectionery',\n",
       "       'Quick Bites, Beverage Shop', 'Dessert Parlor, Sweet Shop',\n",
       "       'Bakery, Quick Bites', 'Sweet Shop, Quick Bites', 'Kiosk',\n",
       "       'Food Truck', 'Quick Bites, Dessert Parlor',\n",
       "       'Beverage Shop, Dessert Parlor', 'Takeaway', 'Pub, Casual Dining',\n",
       "       'Casual Dining, Bar', 'Dessert Parlor, Beverage Shop',\n",
       "       'Quick Bites, Bakery', 'Dessert Parlor, Quick Bites',\n",
       "       'Microbrewery, Casual Dining', 'Lounge', 'Bar, Casual Dining',\n",
       "       'Food Court', 'Cafe, Bakery', 'Dhaba', 'Quick Bites, Sweet Shop',\n",
       "       'Microbrewery', 'Food Court, Quick Bites', 'Pub, Bar',\n",
       "       'Casual Dining, Pub', 'Lounge, Bar', 'Food Court, Dessert Parlor',\n",
       "       'Casual Dining, Sweet Shop', 'Food Court, Casual Dining',\n",
       "       'Casual Dining, Microbrewery', 'Sweet Shop, Dessert Parlor',\n",
       "       'Bakery, Beverage Shop', 'Lounge, Casual Dining',\n",
       "       'Cafe, Food Court', 'Beverage Shop, Cafe', 'Cafe, Dessert Parlor',\n",
       "       'Dessert Parlor, Cafe', 'Dessert Parlor, Bakery',\n",
       "       'Microbrewery, Pub', 'Bakery, Food Court', 'Club',\n",
       "       'Quick Bites, Food Court', 'Bakery, Cafe', 'Bar, Cafe',\n",
       "       'Pub, Cafe', 'Casual Dining, Irani Cafee', 'Fine Dining, Lounge',\n",
       "       'Bar, Quick Bites', 'Bakery, Kiosk', 'Pub, Microbrewery',\n",
       "       'Microbrewery, Lounge', 'Fine Dining, Microbrewery',\n",
       "       'Fine Dining, Bar', 'Mess, Quick Bites', 'Dessert Parlor, Kiosk',\n",
       "       'Bhojanalya', 'Casual Dining, Quick Bites', 'Pop Up', 'Cafe, Bar',\n",
       "       'Casual Dining, Lounge', 'Bakery, Sweet Shop', 'Microbrewery, Bar',\n",
       "       'Cafe, Lounge', 'Bar, Pub', 'Lounge, Cafe', 'Club, Casual Dining',\n",
       "       'Quick Bites, Mess', 'Quick Bites, Meat Shop',\n",
       "       'Quick Bites, Kiosk', 'Lounge, Microbrewery',\n",
       "       'Food Court, Beverage Shop', 'Dessert Parlor, Food Court',\n",
       "       'Bar, Lounge'], dtype=object)"
      ]
     },
     "execution_count": 24,
     "metadata": {},
     "output_type": "execute_result"
    }
   ],
   "source": [
    "bangres['rest_type'].unique()"
   ]
  },
  {
   "cell_type": "code",
   "execution_count": 25,
   "id": "efa3d7e8",
   "metadata": {
    "execution": {
     "iopub.execute_input": "2022-01-14T10:59:03.158479Z",
     "iopub.status.busy": "2022-01-14T10:59:03.157425Z",
     "iopub.status.idle": "2022-01-14T10:59:03.163984Z",
     "shell.execute_reply": "2022-01-14T10:59:03.164575Z",
     "shell.execute_reply.started": "2022-01-14T09:34:21.153874Z"
    },
    "papermill": {
     "duration": 0.062348,
     "end_time": "2022-01-14T10:59:03.164748",
     "exception": false,
     "start_time": "2022-01-14T10:59:03.102400",
     "status": "completed"
    },
    "tags": []
   },
   "outputs": [
    {
     "data": {
      "text/plain": [
       "Quick Bites                   19010\n",
       "Casual Dining                 10253\n",
       "Cafe                           3682\n",
       "Delivery                       2574\n",
       "Dessert Parlor                 2242\n",
       "                              ...  \n",
       "Dessert Parlor, Kiosk             2\n",
       "Food Court, Beverage Shop         2\n",
       "Dessert Parlor, Food Court        2\n",
       "Quick Bites, Kiosk                1\n",
       "Sweet Shop, Dessert Parlor        1\n",
       "Name: rest_type, Length: 93, dtype: int64"
      ]
     },
     "execution_count": 25,
     "metadata": {},
     "output_type": "execute_result"
    }
   ],
   "source": [
    "bangres['rest_type'].value_counts()\n"
   ]
  },
  {
   "cell_type": "code",
   "execution_count": 26,
   "id": "2f2968a9",
   "metadata": {
    "execution": {
     "iopub.execute_input": "2022-01-14T10:59:03.258308Z",
     "iopub.status.busy": "2022-01-14T10:59:03.257367Z",
     "iopub.status.idle": "2022-01-14T10:59:03.272129Z",
     "shell.execute_reply": "2022-01-14T10:59:03.272705Z",
     "shell.execute_reply.started": "2022-01-14T09:34:21.175227Z"
    },
    "papermill": {
     "duration": 0.063891,
     "end_time": "2022-01-14T10:59:03.272908",
     "exception": false,
     "start_time": "2022-01-14T10:59:03.209017",
     "status": "completed"
    },
    "tags": []
   },
   "outputs": [
    {
     "data": {
      "text/plain": [
       "Quick Bites                   19010\n",
       "Casual Dining                 10253\n",
       "Cafe                           3682\n",
       "Delivery                       2574\n",
       "Dessert Parlor                 2242\n",
       "                              ...  \n",
       "Dessert Parlor, Kiosk             2\n",
       "Food Court, Beverage Shop         2\n",
       "Dessert Parlor, Food Court        2\n",
       "Quick Bites, Kiosk                1\n",
       "Sweet Shop, Dessert Parlor        1\n",
       "Name: rest_type, Length: 93, dtype: int64"
      ]
     },
     "execution_count": 26,
     "metadata": {},
     "output_type": "execute_result"
    }
   ],
   "source": [
    "rest_types=bangres['rest_type'].value_counts(ascending=False)\n",
    "rest_types"
   ]
  },
  {
   "cell_type": "code",
   "execution_count": 27,
   "id": "5d11bdac",
   "metadata": {
    "execution": {
     "iopub.execute_input": "2022-01-14T10:59:03.367891Z",
     "iopub.status.busy": "2022-01-14T10:59:03.367240Z",
     "iopub.status.idle": "2022-01-14T10:59:03.378676Z",
     "shell.execute_reply": "2022-01-14T10:59:03.379195Z",
     "shell.execute_reply.started": "2022-01-14T09:34:21.199314Z"
    },
    "papermill": {
     "duration": 0.061703,
     "end_time": "2022-01-14T10:59:03.379373",
     "exception": false,
     "start_time": "2022-01-14T10:59:03.317670",
     "status": "completed"
    },
    "tags": []
   },
   "outputs": [
    {
     "data": {
      "text/html": [
       "<div>\n",
       "<style scoped>\n",
       "    .dataframe tbody tr th:only-of-type {\n",
       "        vertical-align: middle;\n",
       "    }\n",
       "\n",
       "    .dataframe tbody tr th {\n",
       "        vertical-align: top;\n",
       "    }\n",
       "\n",
       "    .dataframe thead th {\n",
       "        text-align: right;\n",
       "    }\n",
       "</style>\n",
       "<table border=\"1\" class=\"dataframe\">\n",
       "  <thead>\n",
       "    <tr style=\"text-align: right;\">\n",
       "      <th></th>\n",
       "      <th>name</th>\n",
       "      <th>online_order</th>\n",
       "      <th>rate</th>\n",
       "      <th>votes</th>\n",
       "      <th>location</th>\n",
       "      <th>rest_type</th>\n",
       "      <th>cuisines</th>\n",
       "      <th>cost_of_2</th>\n",
       "      <th>service_type</th>\n",
       "    </tr>\n",
       "  </thead>\n",
       "  <tbody>\n",
       "    <tr>\n",
       "      <th>0</th>\n",
       "      <td>Jalsa</td>\n",
       "      <td>Yes</td>\n",
       "      <td>4.1</td>\n",
       "      <td>775</td>\n",
       "      <td>Banashankari</td>\n",
       "      <td>Casual Dining</td>\n",
       "      <td>North Indian, Mughlai, Chinese</td>\n",
       "      <td>800.0</td>\n",
       "      <td>Buffet</td>\n",
       "    </tr>\n",
       "    <tr>\n",
       "      <th>1</th>\n",
       "      <td>Spice Elephant</td>\n",
       "      <td>Yes</td>\n",
       "      <td>4.1</td>\n",
       "      <td>787</td>\n",
       "      <td>Banashankari</td>\n",
       "      <td>Casual Dining</td>\n",
       "      <td>Chinese, North Indian, Thai</td>\n",
       "      <td>800.0</td>\n",
       "      <td>Buffet</td>\n",
       "    </tr>\n",
       "    <tr>\n",
       "      <th>2</th>\n",
       "      <td>San Churro Cafe</td>\n",
       "      <td>Yes</td>\n",
       "      <td>3.8</td>\n",
       "      <td>918</td>\n",
       "      <td>Banashankari</td>\n",
       "      <td>Cafe, Casual Dining</td>\n",
       "      <td>Cafe, Mexican, Italian</td>\n",
       "      <td>800.0</td>\n",
       "      <td>Buffet</td>\n",
       "    </tr>\n",
       "    <tr>\n",
       "      <th>3</th>\n",
       "      <td>Addhuri Udupi Bhojana</td>\n",
       "      <td>No</td>\n",
       "      <td>3.7</td>\n",
       "      <td>88</td>\n",
       "      <td>Banashankari</td>\n",
       "      <td>Quick Bites</td>\n",
       "      <td>South Indian, North Indian</td>\n",
       "      <td>300.0</td>\n",
       "      <td>Buffet</td>\n",
       "    </tr>\n",
       "    <tr>\n",
       "      <th>4</th>\n",
       "      <td>Grand Village</td>\n",
       "      <td>No</td>\n",
       "      <td>3.8</td>\n",
       "      <td>166</td>\n",
       "      <td>Basavanagudi</td>\n",
       "      <td>Casual Dining</td>\n",
       "      <td>North Indian, Rajasthani</td>\n",
       "      <td>600.0</td>\n",
       "      <td>Buffet</td>\n",
       "    </tr>\n",
       "  </tbody>\n",
       "</table>\n",
       "</div>"
      ],
      "text/plain": [
       "                    name online_order  rate  votes      location  \\\n",
       "0                  Jalsa          Yes   4.1    775  Banashankari   \n",
       "1         Spice Elephant          Yes   4.1    787  Banashankari   \n",
       "2        San Churro Cafe          Yes   3.8    918  Banashankari   \n",
       "3  Addhuri Udupi Bhojana           No   3.7     88  Banashankari   \n",
       "4          Grand Village           No   3.8    166  Basavanagudi   \n",
       "\n",
       "             rest_type                        cuisines  cost_of_2 service_type  \n",
       "0        Casual Dining  North Indian, Mughlai, Chinese      800.0       Buffet  \n",
       "1        Casual Dining     Chinese, North Indian, Thai      800.0       Buffet  \n",
       "2  Cafe, Casual Dining          Cafe, Mexican, Italian      800.0       Buffet  \n",
       "3          Quick Bites      South Indian, North Indian      300.0       Buffet  \n",
       "4        Casual Dining        North Indian, Rajasthani      600.0       Buffet  "
      ]
     },
     "execution_count": 27,
     "metadata": {},
     "output_type": "execute_result"
    }
   ],
   "source": [
    "bangres.head()"
   ]
  },
  {
   "cell_type": "code",
   "execution_count": 28,
   "id": "1a39cbac",
   "metadata": {
    "execution": {
     "iopub.execute_input": "2022-01-14T10:59:03.473041Z",
     "iopub.status.busy": "2022-01-14T10:59:03.472382Z",
     "iopub.status.idle": "2022-01-14T10:59:03.479570Z",
     "shell.execute_reply": "2022-01-14T10:59:03.480184Z",
     "shell.execute_reply.started": "2022-01-14T09:39:55.170806Z"
    },
    "papermill": {
     "duration": 0.055798,
     "end_time": "2022-01-14T10:59:03.480350",
     "exception": false,
     "start_time": "2022-01-14T10:59:03.424552",
     "status": "completed"
    },
    "tags": []
   },
   "outputs": [
    {
     "data": {
      "text/plain": [
       "Beverage Shop                 863\n",
       "Bar                           686\n",
       "Food Court                    616\n",
       "Sweet Shop                    468\n",
       "Bar, Casual Dining            411\n",
       "                             ... \n",
       "Dessert Parlor, Kiosk           2\n",
       "Food Court, Beverage Shop       2\n",
       "Dessert Parlor, Food Court      2\n",
       "Quick Bites, Kiosk              1\n",
       "Sweet Shop, Dessert Parlor      1\n",
       "Name: rest_type, Length: 85, dtype: int64"
      ]
     },
     "execution_count": 28,
     "metadata": {},
     "output_type": "execute_result"
    }
   ],
   "source": [
    "##Grouping restraunts having less than 100\n",
    "rest_types_lessthan_1000=rest_types[rest_types<1000]\n",
    "rest_types_lessthan_1000"
   ]
  },
  {
   "cell_type": "code",
   "execution_count": 29,
   "id": "6019b0c1",
   "metadata": {
    "execution": {
     "iopub.execute_input": "2022-01-14T10:59:03.574893Z",
     "iopub.status.busy": "2022-01-14T10:59:03.574237Z",
     "iopub.status.idle": "2022-01-14T10:59:03.658730Z",
     "shell.execute_reply": "2022-01-14T10:59:03.658118Z",
     "shell.execute_reply.started": "2022-01-14T09:42:49.015717Z"
    },
    "papermill": {
     "duration": 0.132945,
     "end_time": "2022-01-14T10:59:03.658926",
     "exception": false,
     "start_time": "2022-01-14T10:59:03.525981",
     "status": "completed"
    },
    "tags": []
   },
   "outputs": [
    {
     "data": {
      "text/plain": [
       "0    Casual Dining\n",
       "1    Casual Dining\n",
       "2           others\n",
       "3      Quick Bites\n",
       "4    Casual Dining\n",
       "Name: rest_type, dtype: object"
      ]
     },
     "execution_count": 29,
     "metadata": {},
     "output_type": "execute_result"
    }
   ],
   "source": [
    "##grouping\n",
    "def changerest_types(rest):\n",
    "    if(rest in rest_types_lessthan_1000):\n",
    "        return 'others'\n",
    "    else:\n",
    "        return rest\n",
    "bangres['rest_type']=bangres['rest_type'].apply(changerest_types)\n",
    "bangres['rest_type'].head()"
   ]
  },
  {
   "cell_type": "code",
   "execution_count": 30,
   "id": "22cc4fa6",
   "metadata": {
    "execution": {
     "iopub.execute_input": "2022-01-14T10:59:03.762437Z",
     "iopub.status.busy": "2022-01-14T10:59:03.761765Z",
     "iopub.status.idle": "2022-01-14T10:59:03.767172Z",
     "shell.execute_reply": "2022-01-14T10:59:03.767637Z",
     "shell.execute_reply.started": "2022-01-14T09:43:43.827699Z"
    },
    "papermill": {
     "duration": 0.062734,
     "end_time": "2022-01-14T10:59:03.767798",
     "exception": false,
     "start_time": "2022-01-14T10:59:03.705064",
     "status": "completed"
    },
    "tags": []
   },
   "outputs": [
    {
     "data": {
      "text/plain": [
       "Quick Bites           19010\n",
       "Casual Dining         10253\n",
       "others                 9003\n",
       "Cafe                   3682\n",
       "Delivery               2574\n",
       "Dessert Parlor         2242\n",
       "Takeaway, Delivery     2008\n",
       "Bakery                 1140\n",
       "Casual Dining, Bar     1130\n",
       "Name: rest_type, dtype: int64"
      ]
     },
     "execution_count": 30,
     "metadata": {},
     "output_type": "execute_result"
    }
   ],
   "source": [
    "bangres['rest_type'].value_counts()"
   ]
  },
  {
   "cell_type": "markdown",
   "id": "81f6d40b",
   "metadata": {
    "papermill": {
     "duration": 0.045618,
     "end_time": "2022-01-14T10:59:03.860935",
     "exception": false,
     "start_time": "2022-01-14T10:59:03.815317",
     "status": "completed"
    },
    "tags": []
   },
   "source": [
    "##location cleaning from bangres(bangalore restraunts) "
   ]
  },
  {
   "cell_type": "markdown",
   "id": "51cbaf8e",
   "metadata": {
    "papermill": {
     "duration": 0.046773,
     "end_time": "2022-01-14T10:59:03.953691",
     "exception": false,
     "start_time": "2022-01-14T10:59:03.906918",
     "status": "completed"
    },
    "tags": []
   },
   "source": []
  },
  {
   "cell_type": "code",
   "execution_count": 31,
   "id": "6aa6f75a",
   "metadata": {
    "execution": {
     "iopub.execute_input": "2022-01-14T10:59:04.051247Z",
     "iopub.status.busy": "2022-01-14T10:59:04.050565Z",
     "iopub.status.idle": "2022-01-14T10:59:04.158375Z",
     "shell.execute_reply": "2022-01-14T10:59:04.158906Z",
     "shell.execute_reply.started": "2022-01-14T09:57:32.755499Z"
    },
    "papermill": {
     "duration": 0.158266,
     "end_time": "2022-01-14T10:59:04.159081",
     "exception": false,
     "start_time": "2022-01-14T10:59:04.000815",
     "status": "completed"
    },
    "tags": []
   },
   "outputs": [
    {
     "data": {
      "text/plain": [
       "BTM                      5056\n",
       "others                   4954\n",
       "HSR                      2494\n",
       "Koramangala 5th Block    2479\n",
       "JP Nagar                 2218\n",
       "Whitefield               2105\n",
       "Indiranagar              2026\n",
       "Jayanagar                1916\n",
       "Marathahalli             1805\n",
       "Bannerghatta Road        1609\n",
       "Bellandur                1268\n",
       "Electronic City          1246\n",
       "Koramangala 1st Block    1236\n",
       "Brigade Road             1210\n",
       "Koramangala 7th Block    1174\n",
       "Koramangala 6th Block    1127\n",
       "Sarjapur Road            1047\n",
       "Koramangala 4th Block    1017\n",
       "Ulsoor                   1011\n",
       "Banashankari              902\n",
       "MG Road                   893\n",
       "Kalyan Nagar              841\n",
       "Richmond Road             803\n",
       "Malleshwaram              721\n",
       "Frazer Town               714\n",
       "Basavanagudi              684\n",
       "Residency Road            671\n",
       "Brookefield               656\n",
       "New BEL Road              644\n",
       "Banaswadi                 640\n",
       "Kammanahalli              639\n",
       "Rajajinagar               591\n",
       "Church Street             566\n",
       "Lavelle Road              518\n",
       "Shanti Nagar              508\n",
       "Shivajinagar              498\n",
       "Cunningham Road           490\n",
       "Domlur                    482\n",
       "Old Airport Road          437\n",
       "Ejipura                   433\n",
       "Commercial Street         370\n",
       "St. Marks Road            343\n",
       "Name: location, dtype: int64"
      ]
     },
     "execution_count": 31,
     "metadata": {},
     "output_type": "execute_result"
    }
   ],
   "source": [
    "bangres['location'].value_counts()\n",
    "##selecting the restraunts having less than 300 locations\n",
    "location=bangres['location'].value_counts(ascending=False)\n",
    "location_lessthan_300=location[location<300]\n",
    "def changelocation(loc):\n",
    "    if(loc in location_lessthan_300):\n",
    "        return 'others'\n",
    "    else:\n",
    "        return loc\n",
    "bangres['location']=bangres['location'].apply(changelocation)\n",
    "bangres['location'].value_counts()"
   ]
  },
  {
   "cell_type": "code",
   "execution_count": 32,
   "id": "22e5b03f",
   "metadata": {
    "execution": {
     "iopub.execute_input": "2022-01-14T10:59:04.267662Z",
     "iopub.status.busy": "2022-01-14T10:59:04.266967Z",
     "iopub.status.idle": "2022-01-14T10:59:04.358863Z",
     "shell.execute_reply": "2022-01-14T10:59:04.358224Z",
     "shell.execute_reply.started": "2022-01-14T10:09:31.862496Z"
    },
    "papermill": {
     "duration": 0.153358,
     "end_time": "2022-01-14T10:59:04.359002",
     "exception": false,
     "start_time": "2022-01-14T10:59:04.205644",
     "status": "completed"
    },
    "tags": []
   },
   "outputs": [
    {
     "data": {
      "text/plain": [
       "others                                 26159\n",
       "North Indian                            2852\n",
       "North Indian, Chinese                   2351\n",
       "South Indian                            1820\n",
       "Biryani                                  903\n",
       "                                       ...  \n",
       "South Indian, Chinese, North Indian      105\n",
       "North Indian, Mughlai, Chinese           104\n",
       "South Indian, Fast Food                  104\n",
       "Italian, Pizza                           102\n",
       "North Indian, Chinese, Seafood           102\n",
       "Name: cuisines, Length: 70, dtype: int64"
      ]
     },
     "execution_count": 32,
     "metadata": {},
     "output_type": "execute_result"
    }
   ],
   "source": [
    "##CLEANING CUISINES WHICH ARE HAVING <100\n",
    "cuisine=bangres['cuisines'].value_counts(ascending=False)\n",
    "cuisine_lessthan_100=cuisine[cuisine<100]\n",
    "\n",
    "def changecuisines (cus):\n",
    "    if(cus in cuisine_lessthan_100):\n",
    "        return 'others'\n",
    "    else:\n",
    "        return cus\n",
    "bangres['cuisines']=bangres['cuisines'].apply(changecuisines)\n",
    "bangres['cuisines'].value_counts()\n"
   ]
  },
  {
   "cell_type": "code",
   "execution_count": 33,
   "id": "59fee864",
   "metadata": {
    "execution": {
     "iopub.execute_input": "2022-01-14T10:59:04.466541Z",
     "iopub.status.busy": "2022-01-14T10:59:04.465887Z",
     "iopub.status.idle": "2022-01-14T10:59:04.470081Z",
     "shell.execute_reply": "2022-01-14T10:59:04.470557Z",
     "shell.execute_reply.started": "2022-01-14T10:10:42.068077Z"
    },
    "papermill": {
     "duration": 0.064155,
     "end_time": "2022-01-14T10:59:04.470719",
     "exception": false,
     "start_time": "2022-01-14T10:59:04.406564",
     "status": "completed"
    },
    "tags": []
   },
   "outputs": [
    {
     "data": {
      "text/plain": [
       "Delivery              25579\n",
       "Dine-out              17562\n",
       "Desserts               3559\n",
       "Cafes                  1703\n",
       "Drinks & nightlife     1084\n",
       "Buffet                  869\n",
       "Pubs and bars           686\n",
       "Name: service_type, dtype: int64"
      ]
     },
     "execution_count": 33,
     "metadata": {},
     "output_type": "execute_result"
    }
   ],
   "source": [
    "bangres['service_type'].value_counts()"
   ]
  },
  {
   "cell_type": "markdown",
   "id": "5b9d3311",
   "metadata": {
    "papermill": {
     "duration": 0.046999,
     "end_time": "2022-01-14T10:59:04.565160",
     "exception": false,
     "start_time": "2022-01-14T10:59:04.518161",
     "status": "completed"
    },
    "tags": []
   },
   "source": [
    "# visualisations begin"
   ]
  },
  {
   "cell_type": "markdown",
   "id": "113335ef",
   "metadata": {
    "papermill": {
     "duration": 0.047192,
     "end_time": "2022-01-14T10:59:04.659513",
     "exception": false,
     "start_time": "2022-01-14T10:59:04.612321",
     "status": "completed"
    },
    "tags": []
   },
   "source": []
  },
  {
   "cell_type": "code",
   "execution_count": 34,
   "id": "6416dc9d",
   "metadata": {
    "execution": {
     "iopub.execute_input": "2022-01-14T10:59:04.757543Z",
     "iopub.status.busy": "2022-01-14T10:59:04.756948Z",
     "iopub.status.idle": "2022-01-14T10:59:05.539890Z",
     "shell.execute_reply": "2022-01-14T10:59:05.539317Z",
     "shell.execute_reply.started": "2022-01-14T10:17:24.750691Z"
    },
    "papermill": {
     "duration": 0.832997,
     "end_time": "2022-01-14T10:59:05.540066",
     "exception": false,
     "start_time": "2022-01-14T10:59:04.707069",
     "status": "completed"
    },
    "tags": []
   },
   "outputs": [
    {
     "name": "stderr",
     "output_type": "stream",
     "text": [
      "/opt/conda/lib/python3.7/site-packages/seaborn/_decorators.py:43: FutureWarning: Pass the following variable as a keyword arg: x. From version 0.12, the only valid positional argument will be `data`, and passing other arguments without an explicit keyword will result in an error or misinterpretation.\n",
      "  FutureWarning\n"
     ]
    },
    {
     "data": {
      "text/plain": [
       "(array([ 0,  1,  2,  3,  4,  5,  6,  7,  8,  9, 10, 11, 12, 13, 14, 15, 16,\n",
       "        17, 18, 19, 20, 21, 22, 23, 24, 25, 26, 27, 28, 29, 30, 31, 32, 33,\n",
       "        34, 35, 36, 37, 38, 39, 40, 41]),\n",
       " [Text(0, 0, 'Banashankari'),\n",
       "  Text(1, 0, 'Basavanagudi'),\n",
       "  Text(2, 0, 'others'),\n",
       "  Text(3, 0, 'Jayanagar'),\n",
       "  Text(4, 0, 'JP Nagar'),\n",
       "  Text(5, 0, 'Bannerghatta Road'),\n",
       "  Text(6, 0, 'BTM'),\n",
       "  Text(7, 0, 'Electronic City'),\n",
       "  Text(8, 0, 'HSR'),\n",
       "  Text(9, 0, 'Marathahalli'),\n",
       "  Text(10, 0, 'Shanti Nagar'),\n",
       "  Text(11, 0, 'Koramangala 5th Block'),\n",
       "  Text(12, 0, 'Richmond Road'),\n",
       "  Text(13, 0, 'Koramangala 7th Block'),\n",
       "  Text(14, 0, 'Koramangala 4th Block'),\n",
       "  Text(15, 0, 'Bellandur'),\n",
       "  Text(16, 0, 'Sarjapur Road'),\n",
       "  Text(17, 0, 'Whitefield'),\n",
       "  Text(18, 0, 'Old Airport Road'),\n",
       "  Text(19, 0, 'Indiranagar'),\n",
       "  Text(20, 0, 'Koramangala 1st Block'),\n",
       "  Text(21, 0, 'Frazer Town'),\n",
       "  Text(22, 0, 'MG Road'),\n",
       "  Text(23, 0, 'Brigade Road'),\n",
       "  Text(24, 0, 'Lavelle Road'),\n",
       "  Text(25, 0, 'Church Street'),\n",
       "  Text(26, 0, 'Ulsoor'),\n",
       "  Text(27, 0, 'Residency Road'),\n",
       "  Text(28, 0, 'Shivajinagar'),\n",
       "  Text(29, 0, 'St. Marks Road'),\n",
       "  Text(30, 0, 'Cunningham Road'),\n",
       "  Text(31, 0, 'Commercial Street'),\n",
       "  Text(32, 0, 'Domlur'),\n",
       "  Text(33, 0, 'Ejipura'),\n",
       "  Text(34, 0, 'Malleshwaram'),\n",
       "  Text(35, 0, 'Kammanahalli'),\n",
       "  Text(36, 0, 'Koramangala 6th Block'),\n",
       "  Text(37, 0, 'Brookefield'),\n",
       "  Text(38, 0, 'Rajajinagar'),\n",
       "  Text(39, 0, 'Banaswadi'),\n",
       "  Text(40, 0, 'Kalyan Nagar'),\n",
       "  Text(41, 0, 'New BEL Road')])"
      ]
     },
     "execution_count": 34,
     "metadata": {},
     "output_type": "execute_result"
    },
    {
     "data": {
      "image/png": "[encoded data removed]",
      "text/plain": [
       "<Figure size 1152x720 with 1 Axes>"
      ]
     },
     "metadata": {
      "needs_background": "light"
     },
     "output_type": "display_data"
    }
   ],
   "source": [
    "##showing the number of restraunts as per locations\n",
    "plt.figure(figsize=(16,10))\n",
    "ax=sns.countplot(bangres['location'])\n",
    "plt.xticks(rotation=90)\n"
   ]
  },
  {
   "cell_type": "code",
   "execution_count": 35,
   "id": "d3476006",
   "metadata": {
    "execution": {
     "iopub.execute_input": "2022-01-14T10:59:05.644153Z",
     "iopub.status.busy": "2022-01-14T10:59:05.643486Z",
     "iopub.status.idle": "2022-01-14T10:59:05.882911Z",
     "shell.execute_reply": "2022-01-14T10:59:05.882289Z",
     "shell.execute_reply.started": "2022-01-14T10:26:27.103773Z"
    },
    "papermill": {
     "duration": 0.292279,
     "end_time": "2022-01-14T10:59:05.883065",
     "exception": false,
     "start_time": "2022-01-14T10:59:05.590786",
     "status": "completed"
    },
    "tags": []
   },
   "outputs": [
    {
     "name": "stderr",
     "output_type": "stream",
     "text": [
      "/opt/conda/lib/python3.7/site-packages/seaborn/_decorators.py:43: FutureWarning: Pass the following variable as a keyword arg: x. From version 0.12, the only valid positional argument will be `data`, and passing other arguments without an explicit keyword will result in an error or misinterpretation.\n",
      "  FutureWarning\n"
     ]
    },
    {
     "data": {
      "text/plain": [
       "<AxesSubplot:xlabel='online_order', ylabel='count'>"
      ]
     },
     "execution_count": 35,
     "metadata": {},
     "output_type": "execute_result"
    },
    {
     "data": {
      "image/png": "[encoded data removed]",
      "text/plain": [
       "<Figure size 360x360 with 1 Axes>"
      ]
     },
     "metadata": {
      "needs_background": "light"
     },
     "output_type": "display_data"
    }
   ],
   "source": [
    "##showing the online orders \n",
    "plt.figure(figsize=(5,5))\n",
    "onlinebookings=bangres['online_order']\n",
    "sns.countplot(onlinebookings,palette='magma')"
   ]
  },
  {
   "cell_type": "code",
   "execution_count": 36,
   "id": "027ce7c2",
   "metadata": {
    "execution": {
     "iopub.execute_input": "2022-01-14T10:59:05.999217Z",
     "iopub.status.busy": "2022-01-14T10:59:05.998552Z",
     "iopub.status.idle": "2022-01-14T10:59:06.247902Z",
     "shell.execute_reply": "2022-01-14T10:59:06.247275Z",
     "shell.execute_reply.started": "2022-01-14T10:30:22.651325Z"
    },
    "papermill": {
     "duration": 0.312644,
     "end_time": "2022-01-14T10:59:06.248049",
     "exception": false,
     "start_time": "2022-01-14T10:59:05.935405",
     "status": "completed"
    },
    "tags": []
   },
   "outputs": [
    {
     "data": {
      "text/plain": [
       "<AxesSubplot:xlabel='online_order', ylabel='rate'>"
      ]
     },
     "execution_count": 36,
     "metadata": {},
     "output_type": "execute_result"
    },
    {
     "data": {
      "image/png": "[encoded data removed]",
      "text/plain": [
       "<Figure size 504x504 with 1 Axes>"
      ]
     },
     "metadata": {
      "needs_background": "light"
     },
     "output_type": "display_data"
    }
   ],
   "source": [
    "##displaying the ratings in online orders\n",
    "plt.figure(figsize=(7,7))\n",
    "sns.boxplot(x='online_order',y='rate',data=bangres)"
   ]
  },
  {
   "cell_type": "code",
   "execution_count": 37,
   "id": "0f5025bf",
   "metadata": {
    "execution": {
     "iopub.execute_input": "2022-01-14T10:59:06.356077Z",
     "iopub.status.busy": "2022-01-14T10:59:06.355111Z",
     "iopub.status.idle": "2022-01-14T10:59:08.935054Z",
     "shell.execute_reply": "2022-01-14T10:59:08.935542Z",
     "shell.execute_reply.started": "2022-01-14T10:49:22.235638Z"
    },
    "papermill": {
     "duration": 2.635304,
     "end_time": "2022-01-14T10:59:08.935711",
     "exception": false,
     "start_time": "2022-01-14T10:59:06.300407",
     "status": "completed"
    },
    "tags": []
   },
   "outputs": [
    {
     "data": {
      "text/plain": [
       "<AxesSubplot:xlabel='location', ylabel='cost_of_2'>"
      ]
     },
     "execution_count": 37,
     "metadata": {},
     "output_type": "execute_result"
    },
    {
     "data": {
      "image/png": "[encoded data removed]",
      "text/plain": [
       "<Figure size 2880x2880 with 1 Axes>"
      ]
     },
     "metadata": {
      "needs_background": "light"
     },
     "output_type": "display_data"
    }
   ],
   "source": [
    "##displaying the cost of two people with location \n",
    "plt.figure(figsize=(40,40))\n",
    "sns.barplot(x=bangres['location'],y=bangres['cost_of_2'])"
   ]
  },
  {
   "cell_type": "code",
   "execution_count": 38,
   "id": "dec258fc",
   "metadata": {
    "execution": {
     "iopub.execute_input": "2022-01-14T10:59:09.068978Z",
     "iopub.status.busy": "2022-01-14T10:59:09.065767Z",
     "iopub.status.idle": "2022-01-14T10:59:09.419328Z",
     "shell.execute_reply": "2022-01-14T10:59:09.418774Z",
     "shell.execute_reply.started": "2022-01-14T10:56:33.779405Z"
    },
    "papermill": {
     "duration": 0.429586,
     "end_time": "2022-01-14T10:59:09.419474",
     "exception": false,
     "start_time": "2022-01-14T10:59:08.989888",
     "status": "completed"
    },
    "tags": []
   },
   "outputs": [
    {
     "data": {
      "text/plain": [
       "<AxesSubplot:xlabel='service_type', ylabel='rate'>"
      ]
     },
     "execution_count": 38,
     "metadata": {},
     "output_type": "execute_result"
    },
    {
     "data": {
      "image/png": "[encoded data removed]",
      "text/plain": [
       "<Figure size 1080x720 with 1 Axes>"
      ]
     },
     "metadata": {
      "needs_background": "light"
     },
     "output_type": "display_data"
    }
   ],
   "source": [
    "##displaying the ratings as per type of the restraunt\n",
    "plt.figure(figsize=(15,10))\n",
    "sns.boxplot(x=bangres['service_type'],y=bangres['rate'],palette='hot')"
   ]
  },
  {
   "cell_type": "code",
   "execution_count": null,
   "id": "16b7fd7f",
   "metadata": {
    "papermill": {
     "duration": 0.055497,
     "end_time": "2022-01-14T10:59:09.531599",
     "exception": false,
     "start_time": "2022-01-14T10:59:09.476102",
     "status": "completed"
    },
    "tags": []
   },
   "outputs": [],
   "source": []
  },
  {
   "cell_type": "code",
   "execution_count": null,
   "id": "c66bab4c",
   "metadata": {
    "papermill": {
     "duration": 0.055314,
     "end_time": "2022-01-14T10:59:09.642919",
     "exception": false,
     "start_time": "2022-01-14T10:59:09.587605",
     "status": "completed"
    },
    "tags": []
   },
   "outputs": [],
   "source": []
  },
  {
   "cell_type": "code",
   "execution_count": null,
   "id": "80a721b3",
   "metadata": {
    "papermill": {
     "duration": 0.066743,
     "end_time": "2022-01-14T10:59:09.765707",
     "exception": false,
     "start_time": "2022-01-14T10:59:09.698964",
     "status": "completed"
    },
    "tags": []
   },
   "outputs": [],
   "source": []
  }
 ],
 "metadata": {
  "kernelspec": {
   "display_name": "Python 3",
   "language": "python",
   "name": "python3"
  },
  "language_info": {
   "codemirror_mode": {
    "name": "ipython",
    "version": 3
   },
   "file_extension": ".py",
   "mimetype": "text/x-python",
   "name": "python",
   "nbconvert_exporter": "python",
   "pygments_lexer": "ipython3",
   "version": "3.7.12"
  },
  "papermill": {
   "default_parameters": {},
   "duration": 32.810367,
   "end_time": "2022-01-14T10:59:10.547289",
   "environment_variables": {},
   "exception": null,
   "input_path": "__notebook__.ipynb",
   "output_path": "__notebook__.ipynb",
   "parameters": {},
   "start_time": "2022-01-14T10:58:37.736922",
   "version": "2.3.3"
  }
 },
 "nbformat": 4,
 "nbformat_minor": 5
}
